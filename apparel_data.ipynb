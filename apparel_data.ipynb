{
  "nbformat": 4,
  "nbformat_minor": 0,
  "metadata": {
    "colab": {
      "provenance": []
    },
    "kernelspec": {
      "name": "python3",
      "display_name": "Python 3"
    },
    "language_info": {
      "name": "python"
    }
  },
  "cells": [
    {
      "cell_type": "code",
      "execution_count": 1,
      "metadata": {
        "id": "YJr2Vl9FQY_J"
      },
      "outputs": [],
      "source": [
        "import numpy as np\n",
        "import pandas as pd"
      ]
    },
    {
      "cell_type": "code",
      "source": [
        "df = pd.read_csv('/content/Retail_Apparel_Data_13.09.24_v1.csv')"
      ],
      "metadata": {
        "id": "d5s4bXPMS6wg"
      },
      "execution_count": 2,
      "outputs": []
    },
    {
      "cell_type": "code",
      "source": [
        "df"
      ],
      "metadata": {
        "colab": {
          "base_uri": "https://localhost:8080/",
          "height": 614
        },
        "id": "f3TTGu4FTDMJ",
        "outputId": "f2f501b6-e3bf-4768-cedd-ebfb73f9b9c5"
      },
      "execution_count": 3,
      "outputs": [
        {
          "output_type": "execute_result",
          "data": {
            "text/plain": [
              "       Invoice Number         Date Time  Customer ID  Product ID  Quantity  \\\n",
              "0               10000  01/01/2021 10:20           74           3         2   \n",
              "1               10001  08/01/2021 03:10           92          10         6   \n",
              "2                1000  05/01/2021 20:24           86          20         5   \n",
              "3               10002  11/01/2021 03:43           57          11         6   \n",
              "4               10003  02/01/2021 07:26           73          25         5   \n",
              "...               ...               ...          ...         ...       ...   \n",
              "16893            9994  02/01/2021 10:36           53          24         1   \n",
              "16894            9995  09/01/2021 12:41           73          15         3   \n",
              "16895            9997  05/01/2021 06:56           83          23         2   \n",
              "16896            9998  02/01/2021 10:23           65          31         7   \n",
              "16897            9999  07/01/2021 04:34           92           8         7   \n",
              "\n",
              "       Price per Unit Return Status Sales Channel  Total Sales  \\\n",
              "0               24.00  Not Returned      In-Store        48.00   \n",
              "1               40.24  Not Returned      In-Store       241.44   \n",
              "2               25.96  Not Returned        Online       129.80   \n",
              "3               85.86  Not Returned        Online       515.16   \n",
              "4               72.88  Not Returned      In-Store       364.40   \n",
              "...               ...           ...           ...          ...   \n",
              "16893           40.80  Not Returned      In-Store        40.80   \n",
              "16894           40.81  Not Returned      In-Store       122.43   \n",
              "16895           84.65  Not Returned        Online       169.30   \n",
              "16896           51.45      Returned      In-Store       360.15   \n",
              "16897           82.77  Not Returned        Online       579.39   \n",
              "\n",
              "      Customer Age Group Region Product Category  \n",
              "0                  26-35   West         Footwear  \n",
              "1                  18-25  South         Footwear  \n",
              "2                  18-25   East         Clothing  \n",
              "3                  46-55  North         Clothing  \n",
              "4                    56+   West         Clothing  \n",
              "...                  ...    ...              ...  \n",
              "16893              46-55   East      Accessories  \n",
              "16894                56+   West         Footwear  \n",
              "16895                56+   East         Clothing  \n",
              "16896              26-35   West         Clothing  \n",
              "16897              18-25  South      Accessories  \n",
              "\n",
              "[16898 rows x 12 columns]"
            ],
            "text/html": [
              "\n",
              "  <div id=\"df-e352a439-15a6-4c3f-8c0e-0244d20bc43c\" class=\"colab-df-container\">\n",
              "    <div>\n",
              "<style scoped>\n",
              "    .dataframe tbody tr th:only-of-type {\n",
              "        vertical-align: middle;\n",
              "    }\n",
              "\n",
              "    .dataframe tbody tr th {\n",
              "        vertical-align: top;\n",
              "    }\n",
              "\n",
              "    .dataframe thead th {\n",
              "        text-align: right;\n",
              "    }\n",
              "</style>\n",
              "<table border=\"1\" class=\"dataframe\">\n",
              "  <thead>\n",
              "    <tr style=\"text-align: right;\">\n",
              "      <th></th>\n",
              "      <th>Invoice Number</th>\n",
              "      <th>Date Time</th>\n",
              "      <th>Customer ID</th>\n",
              "      <th>Product ID</th>\n",
              "      <th>Quantity</th>\n",
              "      <th>Price per Unit</th>\n",
              "      <th>Return Status</th>\n",
              "      <th>Sales Channel</th>\n",
              "      <th>Total Sales</th>\n",
              "      <th>Customer Age Group</th>\n",
              "      <th>Region</th>\n",
              "      <th>Product Category</th>\n",
              "    </tr>\n",
              "  </thead>\n",
              "  <tbody>\n",
              "    <tr>\n",
              "      <th>0</th>\n",
              "      <td>10000</td>\n",
              "      <td>01/01/2021 10:20</td>\n",
              "      <td>74</td>\n",
              "      <td>3</td>\n",
              "      <td>2</td>\n",
              "      <td>24.00</td>\n",
              "      <td>Not Returned</td>\n",
              "      <td>In-Store</td>\n",
              "      <td>48.00</td>\n",
              "      <td>26-35</td>\n",
              "      <td>West</td>\n",
              "      <td>Footwear</td>\n",
              "    </tr>\n",
              "    <tr>\n",
              "      <th>1</th>\n",
              "      <td>10001</td>\n",
              "      <td>08/01/2021 03:10</td>\n",
              "      <td>92</td>\n",
              "      <td>10</td>\n",
              "      <td>6</td>\n",
              "      <td>40.24</td>\n",
              "      <td>Not Returned</td>\n",
              "      <td>In-Store</td>\n",
              "      <td>241.44</td>\n",
              "      <td>18-25</td>\n",
              "      <td>South</td>\n",
              "      <td>Footwear</td>\n",
              "    </tr>\n",
              "    <tr>\n",
              "      <th>2</th>\n",
              "      <td>1000</td>\n",
              "      <td>05/01/2021 20:24</td>\n",
              "      <td>86</td>\n",
              "      <td>20</td>\n",
              "      <td>5</td>\n",
              "      <td>25.96</td>\n",
              "      <td>Not Returned</td>\n",
              "      <td>Online</td>\n",
              "      <td>129.80</td>\n",
              "      <td>18-25</td>\n",
              "      <td>East</td>\n",
              "      <td>Clothing</td>\n",
              "    </tr>\n",
              "    <tr>\n",
              "      <th>3</th>\n",
              "      <td>10002</td>\n",
              "      <td>11/01/2021 03:43</td>\n",
              "      <td>57</td>\n",
              "      <td>11</td>\n",
              "      <td>6</td>\n",
              "      <td>85.86</td>\n",
              "      <td>Not Returned</td>\n",
              "      <td>Online</td>\n",
              "      <td>515.16</td>\n",
              "      <td>46-55</td>\n",
              "      <td>North</td>\n",
              "      <td>Clothing</td>\n",
              "    </tr>\n",
              "    <tr>\n",
              "      <th>4</th>\n",
              "      <td>10003</td>\n",
              "      <td>02/01/2021 07:26</td>\n",
              "      <td>73</td>\n",
              "      <td>25</td>\n",
              "      <td>5</td>\n",
              "      <td>72.88</td>\n",
              "      <td>Not Returned</td>\n",
              "      <td>In-Store</td>\n",
              "      <td>364.40</td>\n",
              "      <td>56+</td>\n",
              "      <td>West</td>\n",
              "      <td>Clothing</td>\n",
              "    </tr>\n",
              "    <tr>\n",
              "      <th>...</th>\n",
              "      <td>...</td>\n",
              "      <td>...</td>\n",
              "      <td>...</td>\n",
              "      <td>...</td>\n",
              "      <td>...</td>\n",
              "      <td>...</td>\n",
              "      <td>...</td>\n",
              "      <td>...</td>\n",
              "      <td>...</td>\n",
              "      <td>...</td>\n",
              "      <td>...</td>\n",
              "      <td>...</td>\n",
              "    </tr>\n",
              "    <tr>\n",
              "      <th>16893</th>\n",
              "      <td>9994</td>\n",
              "      <td>02/01/2021 10:36</td>\n",
              "      <td>53</td>\n",
              "      <td>24</td>\n",
              "      <td>1</td>\n",
              "      <td>40.80</td>\n",
              "      <td>Not Returned</td>\n",
              "      <td>In-Store</td>\n",
              "      <td>40.80</td>\n",
              "      <td>46-55</td>\n",
              "      <td>East</td>\n",
              "      <td>Accessories</td>\n",
              "    </tr>\n",
              "    <tr>\n",
              "      <th>16894</th>\n",
              "      <td>9995</td>\n",
              "      <td>09/01/2021 12:41</td>\n",
              "      <td>73</td>\n",
              "      <td>15</td>\n",
              "      <td>3</td>\n",
              "      <td>40.81</td>\n",
              "      <td>Not Returned</td>\n",
              "      <td>In-Store</td>\n",
              "      <td>122.43</td>\n",
              "      <td>56+</td>\n",
              "      <td>West</td>\n",
              "      <td>Footwear</td>\n",
              "    </tr>\n",
              "    <tr>\n",
              "      <th>16895</th>\n",
              "      <td>9997</td>\n",
              "      <td>05/01/2021 06:56</td>\n",
              "      <td>83</td>\n",
              "      <td>23</td>\n",
              "      <td>2</td>\n",
              "      <td>84.65</td>\n",
              "      <td>Not Returned</td>\n",
              "      <td>Online</td>\n",
              "      <td>169.30</td>\n",
              "      <td>56+</td>\n",
              "      <td>East</td>\n",
              "      <td>Clothing</td>\n",
              "    </tr>\n",
              "    <tr>\n",
              "      <th>16896</th>\n",
              "      <td>9998</td>\n",
              "      <td>02/01/2021 10:23</td>\n",
              "      <td>65</td>\n",
              "      <td>31</td>\n",
              "      <td>7</td>\n",
              "      <td>51.45</td>\n",
              "      <td>Returned</td>\n",
              "      <td>In-Store</td>\n",
              "      <td>360.15</td>\n",
              "      <td>26-35</td>\n",
              "      <td>West</td>\n",
              "      <td>Clothing</td>\n",
              "    </tr>\n",
              "    <tr>\n",
              "      <th>16897</th>\n",
              "      <td>9999</td>\n",
              "      <td>07/01/2021 04:34</td>\n",
              "      <td>92</td>\n",
              "      <td>8</td>\n",
              "      <td>7</td>\n",
              "      <td>82.77</td>\n",
              "      <td>Not Returned</td>\n",
              "      <td>Online</td>\n",
              "      <td>579.39</td>\n",
              "      <td>18-25</td>\n",
              "      <td>South</td>\n",
              "      <td>Accessories</td>\n",
              "    </tr>\n",
              "  </tbody>\n",
              "</table>\n",
              "<p>16898 rows × 12 columns</p>\n",
              "</div>\n",
              "    <div class=\"colab-df-buttons\">\n",
              "\n",
              "  <div class=\"colab-df-container\">\n",
              "    <button class=\"colab-df-convert\" onclick=\"convertToInteractive('df-e352a439-15a6-4c3f-8c0e-0244d20bc43c')\"\n",
              "            title=\"Convert this dataframe to an interactive table.\"\n",
              "            style=\"display:none;\">\n",
              "\n",
              "  <svg xmlns=\"http://www.w3.org/2000/svg\" height=\"24px\" viewBox=\"0 -960 960 960\">\n",
              "    <path d=\"M120-120v-720h720v720H120Zm60-500h600v-160H180v160Zm220 220h160v-160H400v160Zm0 220h160v-160H400v160ZM180-400h160v-160H180v160Zm440 0h160v-160H620v160ZM180-180h160v-160H180v160Zm440 0h160v-160H620v160Z\"/>\n",
              "  </svg>\n",
              "    </button>\n",
              "\n",
              "  <style>\n",
              "    .colab-df-container {\n",
              "      display:flex;\n",
              "      gap: 12px;\n",
              "    }\n",
              "\n",
              "    .colab-df-convert {\n",
              "      background-color: #E8F0FE;\n",
              "      border: none;\n",
              "      border-radius: 50%;\n",
              "      cursor: pointer;\n",
              "      display: none;\n",
              "      fill: #1967D2;\n",
              "      height: 32px;\n",
              "      padding: 0 0 0 0;\n",
              "      width: 32px;\n",
              "    }\n",
              "\n",
              "    .colab-df-convert:hover {\n",
              "      background-color: #E2EBFA;\n",
              "      box-shadow: 0px 1px 2px rgba(60, 64, 67, 0.3), 0px 1px 3px 1px rgba(60, 64, 67, 0.15);\n",
              "      fill: #174EA6;\n",
              "    }\n",
              "\n",
              "    .colab-df-buttons div {\n",
              "      margin-bottom: 4px;\n",
              "    }\n",
              "\n",
              "    [theme=dark] .colab-df-convert {\n",
              "      background-color: #3B4455;\n",
              "      fill: #D2E3FC;\n",
              "    }\n",
              "\n",
              "    [theme=dark] .colab-df-convert:hover {\n",
              "      background-color: #434B5C;\n",
              "      box-shadow: 0px 1px 3px 1px rgba(0, 0, 0, 0.15);\n",
              "      filter: drop-shadow(0px 1px 2px rgba(0, 0, 0, 0.3));\n",
              "      fill: #FFFFFF;\n",
              "    }\n",
              "  </style>\n",
              "\n",
              "    <script>\n",
              "      const buttonEl =\n",
              "        document.querySelector('#df-e352a439-15a6-4c3f-8c0e-0244d20bc43c button.colab-df-convert');\n",
              "      buttonEl.style.display =\n",
              "        google.colab.kernel.accessAllowed ? 'block' : 'none';\n",
              "\n",
              "      async function convertToInteractive(key) {\n",
              "        const element = document.querySelector('#df-e352a439-15a6-4c3f-8c0e-0244d20bc43c');\n",
              "        const dataTable =\n",
              "          await google.colab.kernel.invokeFunction('convertToInteractive',\n",
              "                                                    [key], {});\n",
              "        if (!dataTable) return;\n",
              "\n",
              "        const docLinkHtml = 'Like what you see? Visit the ' +\n",
              "          '<a target=\"_blank\" href=https://colab.research.google.com/notebooks/data_table.ipynb>data table notebook</a>'\n",
              "          + ' to learn more about interactive tables.';\n",
              "        element.innerHTML = '';\n",
              "        dataTable['output_type'] = 'display_data';\n",
              "        await google.colab.output.renderOutput(dataTable, element);\n",
              "        const docLink = document.createElement('div');\n",
              "        docLink.innerHTML = docLinkHtml;\n",
              "        element.appendChild(docLink);\n",
              "      }\n",
              "    </script>\n",
              "  </div>\n",
              "\n",
              "\n",
              "<div id=\"df-fe942a70-34cf-4977-944e-09160f00d078\">\n",
              "  <button class=\"colab-df-quickchart\" onclick=\"quickchart('df-fe942a70-34cf-4977-944e-09160f00d078')\"\n",
              "            title=\"Suggest charts\"\n",
              "            style=\"display:none;\">\n",
              "\n",
              "<svg xmlns=\"http://www.w3.org/2000/svg\" height=\"24px\"viewBox=\"0 0 24 24\"\n",
              "     width=\"24px\">\n",
              "    <g>\n",
              "        <path d=\"M19 3H5c-1.1 0-2 .9-2 2v14c0 1.1.9 2 2 2h14c1.1 0 2-.9 2-2V5c0-1.1-.9-2-2-2zM9 17H7v-7h2v7zm4 0h-2V7h2v10zm4 0h-2v-4h2v4z\"/>\n",
              "    </g>\n",
              "</svg>\n",
              "  </button>\n",
              "\n",
              "<style>\n",
              "  .colab-df-quickchart {\n",
              "      --bg-color: #E8F0FE;\n",
              "      --fill-color: #1967D2;\n",
              "      --hover-bg-color: #E2EBFA;\n",
              "      --hover-fill-color: #174EA6;\n",
              "      --disabled-fill-color: #AAA;\n",
              "      --disabled-bg-color: #DDD;\n",
              "  }\n",
              "\n",
              "  [theme=dark] .colab-df-quickchart {\n",
              "      --bg-color: #3B4455;\n",
              "      --fill-color: #D2E3FC;\n",
              "      --hover-bg-color: #434B5C;\n",
              "      --hover-fill-color: #FFFFFF;\n",
              "      --disabled-bg-color: #3B4455;\n",
              "      --disabled-fill-color: #666;\n",
              "  }\n",
              "\n",
              "  .colab-df-quickchart {\n",
              "    background-color: var(--bg-color);\n",
              "    border: none;\n",
              "    border-radius: 50%;\n",
              "    cursor: pointer;\n",
              "    display: none;\n",
              "    fill: var(--fill-color);\n",
              "    height: 32px;\n",
              "    padding: 0;\n",
              "    width: 32px;\n",
              "  }\n",
              "\n",
              "  .colab-df-quickchart:hover {\n",
              "    background-color: var(--hover-bg-color);\n",
              "    box-shadow: 0 1px 2px rgba(60, 64, 67, 0.3), 0 1px 3px 1px rgba(60, 64, 67, 0.15);\n",
              "    fill: var(--button-hover-fill-color);\n",
              "  }\n",
              "\n",
              "  .colab-df-quickchart-complete:disabled,\n",
              "  .colab-df-quickchart-complete:disabled:hover {\n",
              "    background-color: var(--disabled-bg-color);\n",
              "    fill: var(--disabled-fill-color);\n",
              "    box-shadow: none;\n",
              "  }\n",
              "\n",
              "  .colab-df-spinner {\n",
              "    border: 2px solid var(--fill-color);\n",
              "    border-color: transparent;\n",
              "    border-bottom-color: var(--fill-color);\n",
              "    animation:\n",
              "      spin 1s steps(1) infinite;\n",
              "  }\n",
              "\n",
              "  @keyframes spin {\n",
              "    0% {\n",
              "      border-color: transparent;\n",
              "      border-bottom-color: var(--fill-color);\n",
              "      border-left-color: var(--fill-color);\n",
              "    }\n",
              "    20% {\n",
              "      border-color: transparent;\n",
              "      border-left-color: var(--fill-color);\n",
              "      border-top-color: var(--fill-color);\n",
              "    }\n",
              "    30% {\n",
              "      border-color: transparent;\n",
              "      border-left-color: var(--fill-color);\n",
              "      border-top-color: var(--fill-color);\n",
              "      border-right-color: var(--fill-color);\n",
              "    }\n",
              "    40% {\n",
              "      border-color: transparent;\n",
              "      border-right-color: var(--fill-color);\n",
              "      border-top-color: var(--fill-color);\n",
              "    }\n",
              "    60% {\n",
              "      border-color: transparent;\n",
              "      border-right-color: var(--fill-color);\n",
              "    }\n",
              "    80% {\n",
              "      border-color: transparent;\n",
              "      border-right-color: var(--fill-color);\n",
              "      border-bottom-color: var(--fill-color);\n",
              "    }\n",
              "    90% {\n",
              "      border-color: transparent;\n",
              "      border-bottom-color: var(--fill-color);\n",
              "    }\n",
              "  }\n",
              "</style>\n",
              "\n",
              "  <script>\n",
              "    async function quickchart(key) {\n",
              "      const quickchartButtonEl =\n",
              "        document.querySelector('#' + key + ' button');\n",
              "      quickchartButtonEl.disabled = true;  // To prevent multiple clicks.\n",
              "      quickchartButtonEl.classList.add('colab-df-spinner');\n",
              "      try {\n",
              "        const charts = await google.colab.kernel.invokeFunction(\n",
              "            'suggestCharts', [key], {});\n",
              "      } catch (error) {\n",
              "        console.error('Error during call to suggestCharts:', error);\n",
              "      }\n",
              "      quickchartButtonEl.classList.remove('colab-df-spinner');\n",
              "      quickchartButtonEl.classList.add('colab-df-quickchart-complete');\n",
              "    }\n",
              "    (() => {\n",
              "      let quickchartButtonEl =\n",
              "        document.querySelector('#df-fe942a70-34cf-4977-944e-09160f00d078 button');\n",
              "      quickchartButtonEl.style.display =\n",
              "        google.colab.kernel.accessAllowed ? 'block' : 'none';\n",
              "    })();\n",
              "  </script>\n",
              "</div>\n",
              "\n",
              "  <div id=\"id_9252821b-fde8-4dc1-8410-7488bc0b174f\">\n",
              "    <style>\n",
              "      .colab-df-generate {\n",
              "        background-color: #E8F0FE;\n",
              "        border: none;\n",
              "        border-radius: 50%;\n",
              "        cursor: pointer;\n",
              "        display: none;\n",
              "        fill: #1967D2;\n",
              "        height: 32px;\n",
              "        padding: 0 0 0 0;\n",
              "        width: 32px;\n",
              "      }\n",
              "\n",
              "      .colab-df-generate:hover {\n",
              "        background-color: #E2EBFA;\n",
              "        box-shadow: 0px 1px 2px rgba(60, 64, 67, 0.3), 0px 1px 3px 1px rgba(60, 64, 67, 0.15);\n",
              "        fill: #174EA6;\n",
              "      }\n",
              "\n",
              "      [theme=dark] .colab-df-generate {\n",
              "        background-color: #3B4455;\n",
              "        fill: #D2E3FC;\n",
              "      }\n",
              "\n",
              "      [theme=dark] .colab-df-generate:hover {\n",
              "        background-color: #434B5C;\n",
              "        box-shadow: 0px 1px 3px 1px rgba(0, 0, 0, 0.15);\n",
              "        filter: drop-shadow(0px 1px 2px rgba(0, 0, 0, 0.3));\n",
              "        fill: #FFFFFF;\n",
              "      }\n",
              "    </style>\n",
              "    <button class=\"colab-df-generate\" onclick=\"generateWithVariable('df')\"\n",
              "            title=\"Generate code using this dataframe.\"\n",
              "            style=\"display:none;\">\n",
              "\n",
              "  <svg xmlns=\"http://www.w3.org/2000/svg\" height=\"24px\"viewBox=\"0 0 24 24\"\n",
              "       width=\"24px\">\n",
              "    <path d=\"M7,19H8.4L18.45,9,17,7.55,7,17.6ZM5,21V16.75L18.45,3.32a2,2,0,0,1,2.83,0l1.4,1.43a1.91,1.91,0,0,1,.58,1.4,1.91,1.91,0,0,1-.58,1.4L9.25,21ZM18.45,9,17,7.55Zm-12,3A5.31,5.31,0,0,0,4.9,8.1,5.31,5.31,0,0,0,1,6.5,5.31,5.31,0,0,0,4.9,4.9,5.31,5.31,0,0,0,6.5,1,5.31,5.31,0,0,0,8.1,4.9,5.31,5.31,0,0,0,12,6.5,5.46,5.46,0,0,0,6.5,12Z\"/>\n",
              "  </svg>\n",
              "    </button>\n",
              "    <script>\n",
              "      (() => {\n",
              "      const buttonEl =\n",
              "        document.querySelector('#id_9252821b-fde8-4dc1-8410-7488bc0b174f button.colab-df-generate');\n",
              "      buttonEl.style.display =\n",
              "        google.colab.kernel.accessAllowed ? 'block' : 'none';\n",
              "\n",
              "      buttonEl.onclick = () => {\n",
              "        google.colab.notebook.generateWithVariable('df');\n",
              "      }\n",
              "      })();\n",
              "    </script>\n",
              "  </div>\n",
              "\n",
              "    </div>\n",
              "  </div>\n"
            ],
            "application/vnd.google.colaboratory.intrinsic+json": {
              "type": "dataframe",
              "variable_name": "df",
              "summary": "{\n  \"name\": \"df\",\n  \"rows\": 16898,\n  \"fields\": [\n    {\n      \"column\": \"Invoice Number\",\n      \"properties\": {\n        \"dtype\": \"number\",\n        \"std\": 5474,\n        \"min\": 1000,\n        \"max\": 19999,\n        \"num_unique_values\": 16817,\n        \"samples\": [\n          10050,\n          15251,\n          15506\n        ],\n        \"semantic_type\": \"\",\n        \"description\": \"\"\n      }\n    },\n    {\n      \"column\": \"Date Time\",\n      \"properties\": {\n        \"dtype\": \"string\",\n        \"num_unique_values\": 9998,\n        \"samples\": [\n          \"04/01/2021 00:08\",\n          \"04/01/2021 21:46\",\n          \"11/01/2021 07:49\"\n        ],\n        \"semantic_type\": \"\",\n        \"description\": \"\"\n      }\n    },\n    {\n      \"column\": \"Customer ID\",\n      \"properties\": {\n        \"dtype\": \"number\",\n        \"std\": 28,\n        \"min\": 1,\n        \"max\": 100,\n        \"num_unique_values\": 100,\n        \"samples\": [\n          75,\n          6,\n          9\n        ],\n        \"semantic_type\": \"\",\n        \"description\": \"\"\n      }\n    },\n    {\n      \"column\": \"Product ID\",\n      \"properties\": {\n        \"dtype\": \"number\",\n        \"std\": 14,\n        \"min\": 1,\n        \"max\": 50,\n        \"num_unique_values\": 50,\n        \"samples\": [\n          21,\n          13,\n          2\n        ],\n        \"semantic_type\": \"\",\n        \"description\": \"\"\n      }\n    },\n    {\n      \"column\": \"Quantity\",\n      \"properties\": {\n        \"dtype\": \"number\",\n        \"std\": 2,\n        \"min\": 1,\n        \"max\": 60,\n        \"num_unique_values\": 10,\n        \"samples\": [\n          60,\n          6,\n          1\n        ],\n        \"semantic_type\": \"\",\n        \"description\": \"\"\n      }\n    },\n    {\n      \"column\": \"Price per Unit\",\n      \"properties\": {\n        \"dtype\": \"number\",\n        \"std\": 23.229113480728046,\n        \"min\": 20.0,\n        \"max\": 99.99,\n        \"num_unique_values\": 7008,\n        \"samples\": [\n          68.76,\n          92.15,\n          72.71\n        ],\n        \"semantic_type\": \"\",\n        \"description\": \"\"\n      }\n    },\n    {\n      \"column\": \"Return Status\",\n      \"properties\": {\n        \"dtype\": \"category\",\n        \"num_unique_values\": 2,\n        \"samples\": [\n          \"Returned\",\n          \"Not Returned\"\n        ],\n        \"semantic_type\": \"\",\n        \"description\": \"\"\n      }\n    },\n    {\n      \"column\": \"Sales Channel\",\n      \"properties\": {\n        \"dtype\": \"category\",\n        \"num_unique_values\": 4,\n        \"samples\": [\n          \"Online\",\n          \"In Store\"\n        ],\n        \"semantic_type\": \"\",\n        \"description\": \"\"\n      }\n    },\n    {\n      \"column\": \"Total Sales\",\n      \"properties\": {\n        \"dtype\": \"number\",\n        \"std\": 159.46644286800316,\n        \"min\": 20.12,\n        \"max\": 699.93,\n        \"num_unique_values\": 12783,\n        \"samples\": [\n          240.56,\n          180.04\n        ],\n        \"semantic_type\": \"\",\n        \"description\": \"\"\n      }\n    },\n    {\n      \"column\": \"Customer Age Group\",\n      \"properties\": {\n        \"dtype\": \"category\",\n        \"num_unique_values\": 5,\n        \"samples\": [\n          \"18-25\",\n          \"36-45\"\n        ],\n        \"semantic_type\": \"\",\n        \"description\": \"\"\n      }\n    },\n    {\n      \"column\": \"Region\",\n      \"properties\": {\n        \"dtype\": \"category\",\n        \"num_unique_values\": 4,\n        \"samples\": [\n          \"South\",\n          \"North\"\n        ],\n        \"semantic_type\": \"\",\n        \"description\": \"\"\n      }\n    },\n    {\n      \"column\": \"Product Category\",\n      \"properties\": {\n        \"dtype\": \"category\",\n        \"num_unique_values\": 5,\n        \"samples\": [\n          \"Clothing\",\n          \"Acessories\"\n        ],\n        \"semantic_type\": \"\",\n        \"description\": \"\"\n      }\n    }\n  ]\n}"
            }
          },
          "metadata": {},
          "execution_count": 3
        }
      ]
    },
    {
      "cell_type": "code",
      "source": [
        "df.info()"
      ],
      "metadata": {
        "colab": {
          "base_uri": "https://localhost:8080/"
        },
        "id": "3GzrE4qXTEsP",
        "outputId": "36d4aefb-524b-464a-965c-e1699aa428f6"
      },
      "execution_count": 4,
      "outputs": [
        {
          "output_type": "stream",
          "name": "stdout",
          "text": [
            "<class 'pandas.core.frame.DataFrame'>\n",
            "RangeIndex: 16898 entries, 0 to 16897\n",
            "Data columns (total 12 columns):\n",
            " #   Column              Non-Null Count  Dtype  \n",
            "---  ------              --------------  -----  \n",
            " 0   Invoice Number      16898 non-null  int64  \n",
            " 1   Date Time           16898 non-null  object \n",
            " 2   Customer ID         16898 non-null  int64  \n",
            " 3   Product ID          16898 non-null  int64  \n",
            " 4   Quantity            16898 non-null  int64  \n",
            " 5   Price per Unit      16898 non-null  float64\n",
            " 6   Return Status       16898 non-null  object \n",
            " 7   Sales Channel       16898 non-null  object \n",
            " 8   Total Sales         16898 non-null  float64\n",
            " 9   Customer Age Group  16552 non-null  object \n",
            " 10  Region              16898 non-null  object \n",
            " 11  Product Category    16898 non-null  object \n",
            "dtypes: float64(2), int64(4), object(6)\n",
            "memory usage: 1.5+ MB\n"
          ]
        }
      ]
    },
    {
      "cell_type": "code",
      "source": [
        "type(df)"
      ],
      "metadata": {
        "colab": {
          "base_uri": "https://localhost:8080/",
          "height": 203
        },
        "id": "Fa8Jih3XTI4H",
        "outputId": "17992993-7de8-442a-b3f5-d528be4d34ff"
      },
      "execution_count": 5,
      "outputs": [
        {
          "output_type": "execute_result",
          "data": {
            "text/plain": [
              "pandas.core.frame.DataFrame"
            ],
            "text/html": [
              "<div style=\"max-width:800px; border: 1px solid var(--colab-border-color);\"><style>\n",
              "      pre.function-repr-contents {\n",
              "        overflow-x: auto;\n",
              "        padding: 8px 12px;\n",
              "        max-height: 500px;\n",
              "      }\n",
              "\n",
              "      pre.function-repr-contents.function-repr-contents-collapsed {\n",
              "        cursor: pointer;\n",
              "        max-height: 100px;\n",
              "      }\n",
              "    </style>\n",
              "    <pre style=\"white-space: initial; background:\n",
              "         var(--colab-secondary-surface-color); padding: 8px 12px;\n",
              "         border-bottom: 1px solid var(--colab-border-color);\"><b>pandas.core.frame.DataFrame</b><br/>def __init__(data=None, index: Axes | None=None, columns: Axes | None=None, dtype: Dtype | None=None, copy: bool | None=None) -&gt; None</pre><pre class=\"function-repr-contents function-repr-contents-collapsed\" style=\"\"><a class=\"filepath\" style=\"display:none\" href=\"#\">/usr/local/lib/python3.10/dist-packages/pandas/core/frame.py</a>Two-dimensional, size-mutable, potentially heterogeneous tabular data.\n",
              "\n",
              "Data structure also contains labeled axes (rows and columns).\n",
              "Arithmetic operations align on both row and column labels. Can be\n",
              "thought of as a dict-like container for Series objects. The primary\n",
              "pandas data structure.\n",
              "\n",
              "Parameters\n",
              "----------\n",
              "data : ndarray (structured or homogeneous), Iterable, dict, or DataFrame\n",
              "    Dict can contain Series, arrays, constants, dataclass or list-like objects. If\n",
              "    data is a dict, column order follows insertion-order. If a dict contains Series\n",
              "    which have an index defined, it is aligned by its index. This alignment also\n",
              "    occurs if data is a Series or a DataFrame itself. Alignment is done on\n",
              "    Series/DataFrame inputs.\n",
              "\n",
              "    If data is a list of dicts, column order follows insertion-order.\n",
              "\n",
              "index : Index or array-like\n",
              "    Index to use for resulting frame. Will default to RangeIndex if\n",
              "    no indexing information part of input data and no index provided.\n",
              "columns : Index or array-like\n",
              "    Column labels to use for resulting frame when data does not have them,\n",
              "    defaulting to RangeIndex(0, 1, 2, ..., n). If data contains column labels,\n",
              "    will perform column selection instead.\n",
              "dtype : dtype, default None\n",
              "    Data type to force. Only a single dtype is allowed. If None, infer.\n",
              "copy : bool or None, default None\n",
              "    Copy data from inputs.\n",
              "    For dict data, the default of None behaves like ``copy=True``.  For DataFrame\n",
              "    or 2d ndarray input, the default of None behaves like ``copy=False``.\n",
              "    If data is a dict containing one or more Series (possibly of different dtypes),\n",
              "    ``copy=False`` will ensure that these inputs are not copied.\n",
              "\n",
              "    .. versionchanged:: 1.3.0\n",
              "\n",
              "See Also\n",
              "--------\n",
              "DataFrame.from_records : Constructor from tuples, also record arrays.\n",
              "DataFrame.from_dict : From dicts of Series, arrays, or dicts.\n",
              "read_csv : Read a comma-separated values (csv) file into DataFrame.\n",
              "read_table : Read general delimited file into DataFrame.\n",
              "read_clipboard : Read text from clipboard into DataFrame.\n",
              "\n",
              "Notes\n",
              "-----\n",
              "Please reference the :ref:`User Guide &lt;basics.dataframe&gt;` for more information.\n",
              "\n",
              "Examples\n",
              "--------\n",
              "Constructing DataFrame from a dictionary.\n",
              "\n",
              "&gt;&gt;&gt; d = {&#x27;col1&#x27;: [1, 2], &#x27;col2&#x27;: [3, 4]}\n",
              "&gt;&gt;&gt; df = pd.DataFrame(data=d)\n",
              "&gt;&gt;&gt; df\n",
              "   col1  col2\n",
              "0     1     3\n",
              "1     2     4\n",
              "\n",
              "Notice that the inferred dtype is int64.\n",
              "\n",
              "&gt;&gt;&gt; df.dtypes\n",
              "col1    int64\n",
              "col2    int64\n",
              "dtype: object\n",
              "\n",
              "To enforce a single dtype:\n",
              "\n",
              "&gt;&gt;&gt; df = pd.DataFrame(data=d, dtype=np.int8)\n",
              "&gt;&gt;&gt; df.dtypes\n",
              "col1    int8\n",
              "col2    int8\n",
              "dtype: object\n",
              "\n",
              "Constructing DataFrame from a dictionary including Series:\n",
              "\n",
              "&gt;&gt;&gt; d = {&#x27;col1&#x27;: [0, 1, 2, 3], &#x27;col2&#x27;: pd.Series([2, 3], index=[2, 3])}\n",
              "&gt;&gt;&gt; pd.DataFrame(data=d, index=[0, 1, 2, 3])\n",
              "   col1  col2\n",
              "0     0   NaN\n",
              "1     1   NaN\n",
              "2     2   2.0\n",
              "3     3   3.0\n",
              "\n",
              "Constructing DataFrame from numpy ndarray:\n",
              "\n",
              "&gt;&gt;&gt; df2 = pd.DataFrame(np.array([[1, 2, 3], [4, 5, 6], [7, 8, 9]]),\n",
              "...                    columns=[&#x27;a&#x27;, &#x27;b&#x27;, &#x27;c&#x27;])\n",
              "&gt;&gt;&gt; df2\n",
              "   a  b  c\n",
              "0  1  2  3\n",
              "1  4  5  6\n",
              "2  7  8  9\n",
              "\n",
              "Constructing DataFrame from a numpy ndarray that has labeled columns:\n",
              "\n",
              "&gt;&gt;&gt; data = np.array([(1, 2, 3), (4, 5, 6), (7, 8, 9)],\n",
              "...                 dtype=[(&quot;a&quot;, &quot;i4&quot;), (&quot;b&quot;, &quot;i4&quot;), (&quot;c&quot;, &quot;i4&quot;)])\n",
              "&gt;&gt;&gt; df3 = pd.DataFrame(data, columns=[&#x27;c&#x27;, &#x27;a&#x27;])\n",
              "...\n",
              "&gt;&gt;&gt; df3\n",
              "   c  a\n",
              "0  3  1\n",
              "1  6  4\n",
              "2  9  7\n",
              "\n",
              "Constructing DataFrame from dataclass:\n",
              "\n",
              "&gt;&gt;&gt; from dataclasses import make_dataclass\n",
              "&gt;&gt;&gt; Point = make_dataclass(&quot;Point&quot;, [(&quot;x&quot;, int), (&quot;y&quot;, int)])\n",
              "&gt;&gt;&gt; pd.DataFrame([Point(0, 0), Point(0, 3), Point(2, 3)])\n",
              "   x  y\n",
              "0  0  0\n",
              "1  0  3\n",
              "2  2  3\n",
              "\n",
              "Constructing DataFrame from Series/DataFrame:\n",
              "\n",
              "&gt;&gt;&gt; ser = pd.Series([1, 2, 3], index=[&quot;a&quot;, &quot;b&quot;, &quot;c&quot;])\n",
              "&gt;&gt;&gt; df = pd.DataFrame(data=ser, index=[&quot;a&quot;, &quot;c&quot;])\n",
              "&gt;&gt;&gt; df\n",
              "   0\n",
              "a  1\n",
              "c  3\n",
              "\n",
              "&gt;&gt;&gt; df1 = pd.DataFrame([1, 2, 3], index=[&quot;a&quot;, &quot;b&quot;, &quot;c&quot;], columns=[&quot;x&quot;])\n",
              "&gt;&gt;&gt; df2 = pd.DataFrame(data=df1, index=[&quot;a&quot;, &quot;c&quot;])\n",
              "&gt;&gt;&gt; df2\n",
              "   x\n",
              "a  1\n",
              "c  3</pre>\n",
              "      <script>\n",
              "      if (google.colab.kernel.accessAllowed && google.colab.files && google.colab.files.view) {\n",
              "        for (const element of document.querySelectorAll('.filepath')) {\n",
              "          element.style.display = 'block'\n",
              "          element.onclick = (event) => {\n",
              "            event.preventDefault();\n",
              "            event.stopPropagation();\n",
              "            google.colab.files.view(element.textContent, 491);\n",
              "          };\n",
              "        }\n",
              "      }\n",
              "      for (const element of document.querySelectorAll('.function-repr-contents')) {\n",
              "        element.onclick = (event) => {\n",
              "          event.preventDefault();\n",
              "          event.stopPropagation();\n",
              "          element.classList.toggle('function-repr-contents-collapsed');\n",
              "        };\n",
              "      }\n",
              "      </script>\n",
              "      </div>"
            ]
          },
          "metadata": {},
          "execution_count": 5
        }
      ]
    },
    {
      "cell_type": "code",
      "source": [
        "df.describe()"
      ],
      "metadata": {
        "colab": {
          "base_uri": "https://localhost:8080/",
          "height": 300
        },
        "id": "YogL5C1yT27A",
        "outputId": "32ce9efd-521b-4408-b227-a4c765c73111"
      },
      "execution_count": 6,
      "outputs": [
        {
          "output_type": "execute_result",
          "data": {
            "text/plain": [
              "       Invoice Number   Customer ID    Product ID      Quantity  \\\n",
              "count    16898.000000  16898.000000  16898.000000  16898.000000   \n",
              "mean     10473.348503     50.206001     25.463960      3.988164   \n",
              "std       5474.453895     28.896081     14.395134      2.049422   \n",
              "min       1000.000000      1.000000      1.000000      1.000000   \n",
              "25%       5726.250000     25.000000     13.000000      2.000000   \n",
              "50%      10461.000000     50.000000     25.000000      4.000000   \n",
              "75%      15211.750000     75.000000     38.000000      6.000000   \n",
              "max      19999.000000    100.000000     50.000000     60.000000   \n",
              "\n",
              "       Price per Unit   Total Sales  \n",
              "count    16898.000000  16898.000000  \n",
              "mean        60.099128    240.033409  \n",
              "std         23.229113    159.466443  \n",
              "min         20.000000     20.120000  \n",
              "25%         40.050000    107.947500  \n",
              "50%         59.870000    200.500000  \n",
              "75%         80.607500    341.662500  \n",
              "max         99.990000    699.930000  "
            ],
            "text/html": [
              "\n",
              "  <div id=\"df-1f96b8bc-c9dc-421c-94a9-8077ece26935\" class=\"colab-df-container\">\n",
              "    <div>\n",
              "<style scoped>\n",
              "    .dataframe tbody tr th:only-of-type {\n",
              "        vertical-align: middle;\n",
              "    }\n",
              "\n",
              "    .dataframe tbody tr th {\n",
              "        vertical-align: top;\n",
              "    }\n",
              "\n",
              "    .dataframe thead th {\n",
              "        text-align: right;\n",
              "    }\n",
              "</style>\n",
              "<table border=\"1\" class=\"dataframe\">\n",
              "  <thead>\n",
              "    <tr style=\"text-align: right;\">\n",
              "      <th></th>\n",
              "      <th>Invoice Number</th>\n",
              "      <th>Customer ID</th>\n",
              "      <th>Product ID</th>\n",
              "      <th>Quantity</th>\n",
              "      <th>Price per Unit</th>\n",
              "      <th>Total Sales</th>\n",
              "    </tr>\n",
              "  </thead>\n",
              "  <tbody>\n",
              "    <tr>\n",
              "      <th>count</th>\n",
              "      <td>16898.000000</td>\n",
              "      <td>16898.000000</td>\n",
              "      <td>16898.000000</td>\n",
              "      <td>16898.000000</td>\n",
              "      <td>16898.000000</td>\n",
              "      <td>16898.000000</td>\n",
              "    </tr>\n",
              "    <tr>\n",
              "      <th>mean</th>\n",
              "      <td>10473.348503</td>\n",
              "      <td>50.206001</td>\n",
              "      <td>25.463960</td>\n",
              "      <td>3.988164</td>\n",
              "      <td>60.099128</td>\n",
              "      <td>240.033409</td>\n",
              "    </tr>\n",
              "    <tr>\n",
              "      <th>std</th>\n",
              "      <td>5474.453895</td>\n",
              "      <td>28.896081</td>\n",
              "      <td>14.395134</td>\n",
              "      <td>2.049422</td>\n",
              "      <td>23.229113</td>\n",
              "      <td>159.466443</td>\n",
              "    </tr>\n",
              "    <tr>\n",
              "      <th>min</th>\n",
              "      <td>1000.000000</td>\n",
              "      <td>1.000000</td>\n",
              "      <td>1.000000</td>\n",
              "      <td>1.000000</td>\n",
              "      <td>20.000000</td>\n",
              "      <td>20.120000</td>\n",
              "    </tr>\n",
              "    <tr>\n",
              "      <th>25%</th>\n",
              "      <td>5726.250000</td>\n",
              "      <td>25.000000</td>\n",
              "      <td>13.000000</td>\n",
              "      <td>2.000000</td>\n",
              "      <td>40.050000</td>\n",
              "      <td>107.947500</td>\n",
              "    </tr>\n",
              "    <tr>\n",
              "      <th>50%</th>\n",
              "      <td>10461.000000</td>\n",
              "      <td>50.000000</td>\n",
              "      <td>25.000000</td>\n",
              "      <td>4.000000</td>\n",
              "      <td>59.870000</td>\n",
              "      <td>200.500000</td>\n",
              "    </tr>\n",
              "    <tr>\n",
              "      <th>75%</th>\n",
              "      <td>15211.750000</td>\n",
              "      <td>75.000000</td>\n",
              "      <td>38.000000</td>\n",
              "      <td>6.000000</td>\n",
              "      <td>80.607500</td>\n",
              "      <td>341.662500</td>\n",
              "    </tr>\n",
              "    <tr>\n",
              "      <th>max</th>\n",
              "      <td>19999.000000</td>\n",
              "      <td>100.000000</td>\n",
              "      <td>50.000000</td>\n",
              "      <td>60.000000</td>\n",
              "      <td>99.990000</td>\n",
              "      <td>699.930000</td>\n",
              "    </tr>\n",
              "  </tbody>\n",
              "</table>\n",
              "</div>\n",
              "    <div class=\"colab-df-buttons\">\n",
              "\n",
              "  <div class=\"colab-df-container\">\n",
              "    <button class=\"colab-df-convert\" onclick=\"convertToInteractive('df-1f96b8bc-c9dc-421c-94a9-8077ece26935')\"\n",
              "            title=\"Convert this dataframe to an interactive table.\"\n",
              "            style=\"display:none;\">\n",
              "\n",
              "  <svg xmlns=\"http://www.w3.org/2000/svg\" height=\"24px\" viewBox=\"0 -960 960 960\">\n",
              "    <path d=\"M120-120v-720h720v720H120Zm60-500h600v-160H180v160Zm220 220h160v-160H400v160Zm0 220h160v-160H400v160ZM180-400h160v-160H180v160Zm440 0h160v-160H620v160ZM180-180h160v-160H180v160Zm440 0h160v-160H620v160Z\"/>\n",
              "  </svg>\n",
              "    </button>\n",
              "\n",
              "  <style>\n",
              "    .colab-df-container {\n",
              "      display:flex;\n",
              "      gap: 12px;\n",
              "    }\n",
              "\n",
              "    .colab-df-convert {\n",
              "      background-color: #E8F0FE;\n",
              "      border: none;\n",
              "      border-radius: 50%;\n",
              "      cursor: pointer;\n",
              "      display: none;\n",
              "      fill: #1967D2;\n",
              "      height: 32px;\n",
              "      padding: 0 0 0 0;\n",
              "      width: 32px;\n",
              "    }\n",
              "\n",
              "    .colab-df-convert:hover {\n",
              "      background-color: #E2EBFA;\n",
              "      box-shadow: 0px 1px 2px rgba(60, 64, 67, 0.3), 0px 1px 3px 1px rgba(60, 64, 67, 0.15);\n",
              "      fill: #174EA6;\n",
              "    }\n",
              "\n",
              "    .colab-df-buttons div {\n",
              "      margin-bottom: 4px;\n",
              "    }\n",
              "\n",
              "    [theme=dark] .colab-df-convert {\n",
              "      background-color: #3B4455;\n",
              "      fill: #D2E3FC;\n",
              "    }\n",
              "\n",
              "    [theme=dark] .colab-df-convert:hover {\n",
              "      background-color: #434B5C;\n",
              "      box-shadow: 0px 1px 3px 1px rgba(0, 0, 0, 0.15);\n",
              "      filter: drop-shadow(0px 1px 2px rgba(0, 0, 0, 0.3));\n",
              "      fill: #FFFFFF;\n",
              "    }\n",
              "  </style>\n",
              "\n",
              "    <script>\n",
              "      const buttonEl =\n",
              "        document.querySelector('#df-1f96b8bc-c9dc-421c-94a9-8077ece26935 button.colab-df-convert');\n",
              "      buttonEl.style.display =\n",
              "        google.colab.kernel.accessAllowed ? 'block' : 'none';\n",
              "\n",
              "      async function convertToInteractive(key) {\n",
              "        const element = document.querySelector('#df-1f96b8bc-c9dc-421c-94a9-8077ece26935');\n",
              "        const dataTable =\n",
              "          await google.colab.kernel.invokeFunction('convertToInteractive',\n",
              "                                                    [key], {});\n",
              "        if (!dataTable) return;\n",
              "\n",
              "        const docLinkHtml = 'Like what you see? Visit the ' +\n",
              "          '<a target=\"_blank\" href=https://colab.research.google.com/notebooks/data_table.ipynb>data table notebook</a>'\n",
              "          + ' to learn more about interactive tables.';\n",
              "        element.innerHTML = '';\n",
              "        dataTable['output_type'] = 'display_data';\n",
              "        await google.colab.output.renderOutput(dataTable, element);\n",
              "        const docLink = document.createElement('div');\n",
              "        docLink.innerHTML = docLinkHtml;\n",
              "        element.appendChild(docLink);\n",
              "      }\n",
              "    </script>\n",
              "  </div>\n",
              "\n",
              "\n",
              "<div id=\"df-0dcabe7c-0beb-4b94-a5d6-c163f84d900a\">\n",
              "  <button class=\"colab-df-quickchart\" onclick=\"quickchart('df-0dcabe7c-0beb-4b94-a5d6-c163f84d900a')\"\n",
              "            title=\"Suggest charts\"\n",
              "            style=\"display:none;\">\n",
              "\n",
              "<svg xmlns=\"http://www.w3.org/2000/svg\" height=\"24px\"viewBox=\"0 0 24 24\"\n",
              "     width=\"24px\">\n",
              "    <g>\n",
              "        <path d=\"M19 3H5c-1.1 0-2 .9-2 2v14c0 1.1.9 2 2 2h14c1.1 0 2-.9 2-2V5c0-1.1-.9-2-2-2zM9 17H7v-7h2v7zm4 0h-2V7h2v10zm4 0h-2v-4h2v4z\"/>\n",
              "    </g>\n",
              "</svg>\n",
              "  </button>\n",
              "\n",
              "<style>\n",
              "  .colab-df-quickchart {\n",
              "      --bg-color: #E8F0FE;\n",
              "      --fill-color: #1967D2;\n",
              "      --hover-bg-color: #E2EBFA;\n",
              "      --hover-fill-color: #174EA6;\n",
              "      --disabled-fill-color: #AAA;\n",
              "      --disabled-bg-color: #DDD;\n",
              "  }\n",
              "\n",
              "  [theme=dark] .colab-df-quickchart {\n",
              "      --bg-color: #3B4455;\n",
              "      --fill-color: #D2E3FC;\n",
              "      --hover-bg-color: #434B5C;\n",
              "      --hover-fill-color: #FFFFFF;\n",
              "      --disabled-bg-color: #3B4455;\n",
              "      --disabled-fill-color: #666;\n",
              "  }\n",
              "\n",
              "  .colab-df-quickchart {\n",
              "    background-color: var(--bg-color);\n",
              "    border: none;\n",
              "    border-radius: 50%;\n",
              "    cursor: pointer;\n",
              "    display: none;\n",
              "    fill: var(--fill-color);\n",
              "    height: 32px;\n",
              "    padding: 0;\n",
              "    width: 32px;\n",
              "  }\n",
              "\n",
              "  .colab-df-quickchart:hover {\n",
              "    background-color: var(--hover-bg-color);\n",
              "    box-shadow: 0 1px 2px rgba(60, 64, 67, 0.3), 0 1px 3px 1px rgba(60, 64, 67, 0.15);\n",
              "    fill: var(--button-hover-fill-color);\n",
              "  }\n",
              "\n",
              "  .colab-df-quickchart-complete:disabled,\n",
              "  .colab-df-quickchart-complete:disabled:hover {\n",
              "    background-color: var(--disabled-bg-color);\n",
              "    fill: var(--disabled-fill-color);\n",
              "    box-shadow: none;\n",
              "  }\n",
              "\n",
              "  .colab-df-spinner {\n",
              "    border: 2px solid var(--fill-color);\n",
              "    border-color: transparent;\n",
              "    border-bottom-color: var(--fill-color);\n",
              "    animation:\n",
              "      spin 1s steps(1) infinite;\n",
              "  }\n",
              "\n",
              "  @keyframes spin {\n",
              "    0% {\n",
              "      border-color: transparent;\n",
              "      border-bottom-color: var(--fill-color);\n",
              "      border-left-color: var(--fill-color);\n",
              "    }\n",
              "    20% {\n",
              "      border-color: transparent;\n",
              "      border-left-color: var(--fill-color);\n",
              "      border-top-color: var(--fill-color);\n",
              "    }\n",
              "    30% {\n",
              "      border-color: transparent;\n",
              "      border-left-color: var(--fill-color);\n",
              "      border-top-color: var(--fill-color);\n",
              "      border-right-color: var(--fill-color);\n",
              "    }\n",
              "    40% {\n",
              "      border-color: transparent;\n",
              "      border-right-color: var(--fill-color);\n",
              "      border-top-color: var(--fill-color);\n",
              "    }\n",
              "    60% {\n",
              "      border-color: transparent;\n",
              "      border-right-color: var(--fill-color);\n",
              "    }\n",
              "    80% {\n",
              "      border-color: transparent;\n",
              "      border-right-color: var(--fill-color);\n",
              "      border-bottom-color: var(--fill-color);\n",
              "    }\n",
              "    90% {\n",
              "      border-color: transparent;\n",
              "      border-bottom-color: var(--fill-color);\n",
              "    }\n",
              "  }\n",
              "</style>\n",
              "\n",
              "  <script>\n",
              "    async function quickchart(key) {\n",
              "      const quickchartButtonEl =\n",
              "        document.querySelector('#' + key + ' button');\n",
              "      quickchartButtonEl.disabled = true;  // To prevent multiple clicks.\n",
              "      quickchartButtonEl.classList.add('colab-df-spinner');\n",
              "      try {\n",
              "        const charts = await google.colab.kernel.invokeFunction(\n",
              "            'suggestCharts', [key], {});\n",
              "      } catch (error) {\n",
              "        console.error('Error during call to suggestCharts:', error);\n",
              "      }\n",
              "      quickchartButtonEl.classList.remove('colab-df-spinner');\n",
              "      quickchartButtonEl.classList.add('colab-df-quickchart-complete');\n",
              "    }\n",
              "    (() => {\n",
              "      let quickchartButtonEl =\n",
              "        document.querySelector('#df-0dcabe7c-0beb-4b94-a5d6-c163f84d900a button');\n",
              "      quickchartButtonEl.style.display =\n",
              "        google.colab.kernel.accessAllowed ? 'block' : 'none';\n",
              "    })();\n",
              "  </script>\n",
              "</div>\n",
              "\n",
              "    </div>\n",
              "  </div>\n"
            ],
            "application/vnd.google.colaboratory.intrinsic+json": {
              "type": "dataframe",
              "summary": "{\n  \"name\": \"df\",\n  \"rows\": 8,\n  \"fields\": [\n    {\n      \"column\": \"Invoice Number\",\n      \"properties\": {\n        \"dtype\": \"number\",\n        \"std\": 6452.791716191626,\n        \"min\": 1000.0,\n        \"max\": 19999.0,\n        \"num_unique_values\": 8,\n        \"samples\": [\n          10473.348502781395,\n          10461.0,\n          16898.0\n        ],\n        \"semantic_type\": \"\",\n        \"description\": \"\"\n      }\n    },\n    {\n      \"column\": \"Customer ID\",\n      \"properties\": {\n        \"dtype\": \"number\",\n        \"std\": 5957.750929429428,\n        \"min\": 1.0,\n        \"max\": 16898.0,\n        \"num_unique_values\": 8,\n        \"samples\": [\n          50.206000710143215,\n          50.0,\n          16898.0\n        ],\n        \"semantic_type\": \"\",\n        \"description\": \"\"\n      }\n    },\n    {\n      \"column\": \"Product ID\",\n      \"properties\": {\n        \"dtype\": \"number\",\n        \"std\": 5965.9368997578085,\n        \"min\": 1.0,\n        \"max\": 16898.0,\n        \"num_unique_values\": 8,\n        \"samples\": [\n          25.463960231980117,\n          25.0,\n          16898.0\n        ],\n        \"semantic_type\": \"\",\n        \"description\": \"\"\n      }\n    },\n    {\n      \"column\": \"Quantity\",\n      \"properties\": {\n        \"dtype\": \"number\",\n        \"std\": 5970.386508823285,\n        \"min\": 1.0,\n        \"max\": 16898.0,\n        \"num_unique_values\": 8,\n        \"samples\": [\n          3.9881642797964254,\n          4.0,\n          16898.0\n        ],\n        \"semantic_type\": \"\",\n        \"description\": \"\"\n      }\n    },\n    {\n      \"column\": \"Price per Unit\",\n      \"properties\": {\n        \"dtype\": \"number\",\n        \"std\": 5955.020276505686,\n        \"min\": 20.0,\n        \"max\": 16898.0,\n        \"num_unique_values\": 8,\n        \"samples\": [\n          60.099128299207,\n          59.87,\n          16898.0\n        ],\n        \"semantic_type\": \"\",\n        \"description\": \"\"\n      }\n    },\n    {\n      \"column\": \"Total Sales\",\n      \"properties\": {\n        \"dtype\": \"number\",\n        \"std\": 5888.537922317242,\n        \"min\": 20.12,\n        \"max\": 16898.0,\n        \"num_unique_values\": 8,\n        \"samples\": [\n          240.03340868741864,\n          200.5,\n          16898.0\n        ],\n        \"semantic_type\": \"\",\n        \"description\": \"\"\n      }\n    }\n  ]\n}"
            }
          },
          "metadata": {},
          "execution_count": 6
        }
      ]
    },
    {
      "cell_type": "code",
      "source": [
        "df.shape"
      ],
      "metadata": {
        "colab": {
          "base_uri": "https://localhost:8080/"
        },
        "id": "QH31b2tsWwG3",
        "outputId": "c62b994b-a60f-4d3e-a1c5-c4576a47565c"
      },
      "execution_count": 8,
      "outputs": [
        {
          "output_type": "execute_result",
          "data": {
            "text/plain": [
              "(16898, 12)"
            ]
          },
          "metadata": {},
          "execution_count": 8
        }
      ]
    },
    {
      "cell_type": "code",
      "source": [
        "#for the missing values\n",
        "df.isnull().sum()"
      ],
      "metadata": {
        "colab": {
          "base_uri": "https://localhost:8080/",
          "height": 460
        },
        "id": "pYqf5CkcUKmo",
        "outputId": "161330b8-c153-4172-b7d1-e7c15e74f464"
      },
      "execution_count": 7,
      "outputs": [
        {
          "output_type": "execute_result",
          "data": {
            "text/plain": [
              "Invoice Number          0\n",
              "Date Time               0\n",
              "Customer ID             0\n",
              "Product ID              0\n",
              "Quantity                0\n",
              "Price per Unit          0\n",
              "Return Status           0\n",
              "Sales Channel           0\n",
              "Total Sales             0\n",
              "Customer Age Group    346\n",
              "Region                  0\n",
              "Product Category        0\n",
              "dtype: int64"
            ],
            "text/html": [
              "<div>\n",
              "<style scoped>\n",
              "    .dataframe tbody tr th:only-of-type {\n",
              "        vertical-align: middle;\n",
              "    }\n",
              "\n",
              "    .dataframe tbody tr th {\n",
              "        vertical-align: top;\n",
              "    }\n",
              "\n",
              "    .dataframe thead th {\n",
              "        text-align: right;\n",
              "    }\n",
              "</style>\n",
              "<table border=\"1\" class=\"dataframe\">\n",
              "  <thead>\n",
              "    <tr style=\"text-align: right;\">\n",
              "      <th></th>\n",
              "      <th>0</th>\n",
              "    </tr>\n",
              "  </thead>\n",
              "  <tbody>\n",
              "    <tr>\n",
              "      <th>Invoice Number</th>\n",
              "      <td>0</td>\n",
              "    </tr>\n",
              "    <tr>\n",
              "      <th>Date Time</th>\n",
              "      <td>0</td>\n",
              "    </tr>\n",
              "    <tr>\n",
              "      <th>Customer ID</th>\n",
              "      <td>0</td>\n",
              "    </tr>\n",
              "    <tr>\n",
              "      <th>Product ID</th>\n",
              "      <td>0</td>\n",
              "    </tr>\n",
              "    <tr>\n",
              "      <th>Quantity</th>\n",
              "      <td>0</td>\n",
              "    </tr>\n",
              "    <tr>\n",
              "      <th>Price per Unit</th>\n",
              "      <td>0</td>\n",
              "    </tr>\n",
              "    <tr>\n",
              "      <th>Return Status</th>\n",
              "      <td>0</td>\n",
              "    </tr>\n",
              "    <tr>\n",
              "      <th>Sales Channel</th>\n",
              "      <td>0</td>\n",
              "    </tr>\n",
              "    <tr>\n",
              "      <th>Total Sales</th>\n",
              "      <td>0</td>\n",
              "    </tr>\n",
              "    <tr>\n",
              "      <th>Customer Age Group</th>\n",
              "      <td>346</td>\n",
              "    </tr>\n",
              "    <tr>\n",
              "      <th>Region</th>\n",
              "      <td>0</td>\n",
              "    </tr>\n",
              "    <tr>\n",
              "      <th>Product Category</th>\n",
              "      <td>0</td>\n",
              "    </tr>\n",
              "  </tbody>\n",
              "</table>\n",
              "</div><br><label><b>dtype:</b> int64</label>"
            ]
          },
          "metadata": {},
          "execution_count": 7
        }
      ]
    },
    {
      "cell_type": "code",
      "source": [
        "#to check relations of missing value category with 'Region' and 'Product Category'\n",
        "import matplotlib.pyplot as plt\n",
        "import seaborn as sns"
      ],
      "metadata": {
        "id": "fhhFtNU1Uwm-"
      },
      "execution_count": 9,
      "outputs": []
    },
    {
      "cell_type": "code",
      "source": [
        "plt.figure(figsize=(10, 6))\n",
        "\n",
        "sns.countplot(data=df, x='Product_Category', hue='Customer_Age_Group')\n",
        "\n",
        "plt.title('Customer Age Group vs Product Category', fontsize=15)\n",
        "plt.xlabel('Product Category', fontsize=12)\n",
        "plt.ylabel('Count', fontsize=12)\n",
        "\n",
        "plt.xticks(rotation=45)\n",
        "plt.tight_layout()\n",
        "\n",
        "plt.show()"
      ],
      "metadata": {
        "colab": {
          "base_uri": "https://localhost:8080/",
          "height": 607
        },
        "id": "XwxjwJD-bMqy",
        "outputId": "dd85a93b-840f-4c01-fab6-53451c4e0ce8"
      },
      "execution_count": 109,
      "outputs": [
        {
          "output_type": "display_data",
          "data": {
            "text/plain": [
              "<Figure size 1000x600 with 1 Axes>"
            ],
            "image/png": "[encoded data removed]"
          },
          "metadata": {}
        }
      ]
    },
    {
      "cell_type": "code",
      "source": [
        "plt.figure(figsize=(10, 6))\n",
        "\n",
        "sns.countplot(data=df, x='Region', hue='Customer_Age_Group')\n",
        "\n",
        "plt.title('Customer Age Group vs Region', fontsize=15)\n",
        "plt.xlabel('Region', fontsize=12)\n",
        "plt.ylabel('Count', fontsize=12)\n",
        "\n",
        "plt.xticks(rotation=45)\n",
        "plt.tight_layout()\n",
        "\n",
        "plt.show()"
      ],
      "metadata": {
        "colab": {
          "base_uri": "https://localhost:8080/",
          "height": 607
        },
        "id": "3fuXwFosbbZe",
        "outputId": "c5d862ca-e8dd-429d-eb72-17a1b848d56a"
      },
      "execution_count": 11,
      "outputs": [
        {
          "output_type": "display_data",
          "data": {
            "text/plain": [
              "<Figure size 1000x600 with 1 Axes>"
            ],
            "image/png": "[encoded data removed]"
          },
          "metadata": {}
        }
      ]
    },
    {
      "cell_type": "code",
      "source": [
        "plt.figure(figsize=(10, 6))\n",
        "\n",
        "sns.countplot(data=df, x='Customer Age Group')\n",
        "\n",
        "plt.title('Distribution of Customer Age Group', fontsize=16)\n",
        "plt.xlabel('Customer Age Group', fontsize=12)\n",
        "plt.ylabel('Count', fontsize=12)\n",
        "\n",
        "plt.tight_layout()\n",
        "plt.show()"
      ],
      "metadata": {
        "colab": {
          "base_uri": "https://localhost:8080/",
          "height": 607
        },
        "id": "cXX_LUGcb4Rt",
        "outputId": "053b6aa5-a054-4abc-d9f9-9ffb167333ff"
      },
      "execution_count": 12,
      "outputs": [
        {
          "output_type": "display_data",
          "data": {
            "text/plain": [
              "<Figure size 1000x600 with 1 Axes>"
            ],
            "image/png": "[encoded data removed]"
          },
          "metadata": {}
        }
      ]
    },
    {
      "cell_type": "code",
      "source": [
        "#filling missing values of Customer Age Group with the most frequent value\n",
        "df['Customer Age Group'].mode()[0]"
      ],
      "metadata": {
        "colab": {
          "base_uri": "https://localhost:8080/",
          "height": 36
        },
        "id": "6vPTapJTeRnC",
        "outputId": "7d56d25e-dfef-449e-b821-ef102f534104"
      },
      "execution_count": 14,
      "outputs": [
        {
          "output_type": "execute_result",
          "data": {
            "text/plain": [
              "'46-55'"
            ],
            "application/vnd.google.colaboratory.intrinsic+json": {
              "type": "string"
            }
          },
          "metadata": {},
          "execution_count": 14
        }
      ]
    },
    {
      "cell_type": "code",
      "source": [
        "df['Customer Age Group'].fillna(df['Customer Age Group'].mode()[0], inplace=True)"
      ],
      "metadata": {
        "id": "GaLApyirepZ_"
      },
      "execution_count": 15,
      "outputs": []
    },
    {
      "cell_type": "code",
      "source": [
        "df.info()"
      ],
      "metadata": {
        "colab": {
          "base_uri": "https://localhost:8080/"
        },
        "id": "76KnYabOe3c8",
        "outputId": "91389c73-df98-4603-ece8-809d28e26e17"
      },
      "execution_count": 16,
      "outputs": [
        {
          "output_type": "stream",
          "name": "stdout",
          "text": [
            "<class 'pandas.core.frame.DataFrame'>\n",
            "RangeIndex: 16898 entries, 0 to 16897\n",
            "Data columns (total 12 columns):\n",
            " #   Column              Non-Null Count  Dtype  \n",
            "---  ------              --------------  -----  \n",
            " 0   Invoice Number      16898 non-null  int64  \n",
            " 1   Date Time           16898 non-null  object \n",
            " 2   Customer ID         16898 non-null  int64  \n",
            " 3   Product ID          16898 non-null  int64  \n",
            " 4   Quantity            16898 non-null  int64  \n",
            " 5   Price per Unit      16898 non-null  float64\n",
            " 6   Return Status       16898 non-null  object \n",
            " 7   Sales Channel       16898 non-null  object \n",
            " 8   Total Sales         16898 non-null  float64\n",
            " 9   Customer Age Group  16898 non-null  object \n",
            " 10  Region              16898 non-null  object \n",
            " 11  Product Category    16898 non-null  object \n",
            "dtypes: float64(2), int64(4), object(6)\n",
            "memory usage: 1.5+ MB\n"
          ]
        }
      ]
    },
    {
      "cell_type": "code",
      "source": [
        "df.isnull().sum().sum()"
      ],
      "metadata": {
        "colab": {
          "base_uri": "https://localhost:8080/"
        },
        "id": "t6hKhrmee5bf",
        "outputId": "c650036d-2b29-43ad-e552-ba01ec08e5ab"
      },
      "execution_count": 17,
      "outputs": [
        {
          "output_type": "execute_result",
          "data": {
            "text/plain": [
              "0"
            ]
          },
          "metadata": {},
          "execution_count": 17
        }
      ]
    },
    {
      "cell_type": "code",
      "source": [
        "#for the duplicate values\n",
        "df.duplicated().sum()"
      ],
      "metadata": {
        "colab": {
          "base_uri": "https://localhost:8080/"
        },
        "id": "HrRLxmQffCcn",
        "outputId": "939f529f-751b-4b71-f816-9d5534177d33"
      },
      "execution_count": 18,
      "outputs": [
        {
          "output_type": "execute_result",
          "data": {
            "text/plain": [
              "0"
            ]
          },
          "metadata": {},
          "execution_count": 18
        }
      ]
    },
    {
      "cell_type": "code",
      "source": [
        "#for checking outliers\n",
        "plt.figure(figsize=(6, 4))\n",
        "\n",
        "plt.subplot(1, 3, 1)\n",
        "sns.boxplot(x=df['Quantity'])\n",
        "plt.title('Box Plot - Quantity')\n",
        "\n",
        "plt.subplot(1, 3, 2)\n",
        "sns.boxplot(x=df['Price per Unit'])\n",
        "plt.title('Box Plot - Price per Unit')\n",
        "\n",
        "plt.subplot(1, 3, 3)\n",
        "sns.boxplot(x=df['Total Sales'])\n",
        "plt.title('Box Plot - Total Sales')\n",
        "\n",
        "plt.tight_layout()\n",
        "plt.show()"
      ],
      "metadata": {
        "colab": {
          "base_uri": "https://localhost:8080/",
          "height": 407
        },
        "id": "chf5LT3dgD-z",
        "outputId": "976aabdb-93eb-4465-9bf2-7566c746243f"
      },
      "execution_count": 21,
      "outputs": [
        {
          "output_type": "display_data",
          "data": {
            "text/plain": [
              "<Figure size 600x400 with 3 Axes>"
            ],
            "image/png": "[encoded data removed]"
          },
          "metadata": {}
        }
      ]
    },
    {
      "cell_type": "code",
      "source": [
        "#for fixing the outliers\n",
        "Q1 = df['Quantity'].quantile(0.25)\n",
        "Q3 = df['Quantity'].quantile(0.75)\n",
        "\n",
        "IQR = Q3 - Q1\n",
        "lower_bound = Q1 - 1.5 * IQR\n",
        "upper_bound = Q3 + 1.5 * IQR\n",
        "\n",
        "df = df[(df['Quantity'] >= lower_bound) & (df['Quantity'] <= upper_bound)]"
      ],
      "metadata": {
        "id": "gGQRtY64iDE4"
      },
      "execution_count": 28,
      "outputs": []
    },
    {
      "cell_type": "code",
      "source": [
        "plt.figure(figsize=(6, 4))\n",
        "\n",
        "plt.subplot(1, 3, 1)\n",
        "sns.boxplot(x=df['Quantity'])\n",
        "plt.title('Box Plot - Quantity')"
      ],
      "metadata": {
        "colab": {
          "base_uri": "https://localhost:8080/",
          "height": 428
        },
        "id": "WdZKyqgIzaj7",
        "outputId": "bf316b8c-676a-46d8-8004-a57ce0e2893a"
      },
      "execution_count": 29,
      "outputs": [
        {
          "output_type": "execute_result",
          "data": {
            "text/plain": [
              "Text(0.5, 1.0, 'Box Plot - Quantity')"
            ]
          },
          "metadata": {},
          "execution_count": 29
        },
        {
          "output_type": "display_data",
          "data": {
            "text/plain": [
              "<Figure size 600x400 with 1 Axes>"
            ],
            "image/png": "[encoded data removed]"
          },
          "metadata": {}
        }
      ]
    },
    {
      "cell_type": "code",
      "source": [
        "df.info()"
      ],
      "metadata": {
        "colab": {
          "base_uri": "https://localhost:8080/"
        },
        "id": "5fthufJQ0Rd_",
        "outputId": "25509c52-3485-44d4-9b9d-32d56b186c41"
      },
      "execution_count": 30,
      "outputs": [
        {
          "output_type": "stream",
          "name": "stdout",
          "text": [
            "<class 'pandas.core.frame.DataFrame'>\n",
            "Index: 16896 entries, 0 to 16897\n",
            "Data columns (total 12 columns):\n",
            " #   Column              Non-Null Count  Dtype  \n",
            "---  ------              --------------  -----  \n",
            " 0   Invoice Number      16896 non-null  int64  \n",
            " 1   Date Time           16896 non-null  object \n",
            " 2   Customer ID         16896 non-null  int64  \n",
            " 3   Product ID          16896 non-null  int64  \n",
            " 4   Quantity            16896 non-null  int64  \n",
            " 5   Price per Unit      16896 non-null  float64\n",
            " 6   Return Status       16896 non-null  object \n",
            " 7   Sales Channel       16896 non-null  object \n",
            " 8   Total Sales         16896 non-null  float64\n",
            " 9   Customer Age Group  16896 non-null  object \n",
            " 10  Region              16896 non-null  object \n",
            " 11  Product Category    16896 non-null  object \n",
            "dtypes: float64(2), int64(4), object(6)\n",
            "memory usage: 1.7+ MB\n"
          ]
        }
      ]
    },
    {
      "cell_type": "code",
      "source": [
        "df.columns"
      ],
      "metadata": {
        "colab": {
          "base_uri": "https://localhost:8080/"
        },
        "id": "Unciez9w1FFP",
        "outputId": "badbdb0a-7634-4aab-f73e-2fc33d904704"
      },
      "execution_count": 34,
      "outputs": [
        {
          "output_type": "execute_result",
          "data": {
            "text/plain": [
              "Index(['Invoice Number', 'Date Time', 'Customer ID', 'Product ID', 'Quantity',\n",
              "       'Price per Unit', 'Return Status', 'Sales Channel', 'Total Sales',\n",
              "       'Customer Age Group', 'Region', 'Product Category'],\n",
              "      dtype='object')"
            ]
          },
          "metadata": {},
          "execution_count": 34
        }
      ]
    },
    {
      "cell_type": "code",
      "source": [
        "#replacing spaces of column names\n",
        "df.columns.str.replace(' ', '_')"
      ],
      "metadata": {
        "colab": {
          "base_uri": "https://localhost:8080/"
        },
        "id": "1i9cfElR2cYd",
        "outputId": "e73e3cca-1278-45aa-ed85-b9e0bef69c26"
      },
      "execution_count": 35,
      "outputs": [
        {
          "output_type": "execute_result",
          "data": {
            "text/plain": [
              "Index(['Invoice_Number', 'Date_Time', 'Customer_ID', 'Product_ID', 'Quantity',\n",
              "       'Price_per_Unit', 'Return_Status', 'Sales_Channel', 'Total_Sales',\n",
              "       'Customer_Age_Group', 'Region', 'Product_Category'],\n",
              "      dtype='object')"
            ]
          },
          "metadata": {},
          "execution_count": 35
        }
      ]
    },
    {
      "cell_type": "code",
      "source": [
        "df.columns = df.columns.str.replace(' ', '_')"
      ],
      "metadata": {
        "id": "_XT7AppX3XOL"
      },
      "execution_count": 36,
      "outputs": []
    },
    {
      "cell_type": "code",
      "source": [
        "df.columns"
      ],
      "metadata": {
        "colab": {
          "base_uri": "https://localhost:8080/"
        },
        "id": "5gw3DfqI3dX8",
        "outputId": "de1cdd60-6136-41a7-a129-4ab699ceda80"
      },
      "execution_count": 37,
      "outputs": [
        {
          "output_type": "execute_result",
          "data": {
            "text/plain": [
              "Index(['Invoice_Number', 'Date_Time', 'Customer_ID', 'Product_ID', 'Quantity',\n",
              "       'Price_per_Unit', 'Return_Status', 'Sales_Channel', 'Total_Sales',\n",
              "       'Customer_Age_Group', 'Region', 'Product_Category'],\n",
              "      dtype='object')"
            ]
          },
          "metadata": {},
          "execution_count": 37
        }
      ]
    },
    {
      "cell_type": "code",
      "source": [
        "df.info()"
      ],
      "metadata": {
        "colab": {
          "base_uri": "https://localhost:8080/"
        },
        "id": "jxT7wFTL4w7x",
        "outputId": "815a92ff-0be5-43ad-f22d-6df6111812e3"
      },
      "execution_count": 42,
      "outputs": [
        {
          "output_type": "stream",
          "name": "stdout",
          "text": [
            "<class 'pandas.core.frame.DataFrame'>\n",
            "Index: 16896 entries, 0 to 16897\n",
            "Data columns (total 12 columns):\n",
            " #   Column              Non-Null Count  Dtype  \n",
            "---  ------              --------------  -----  \n",
            " 0   Invoice_Number      16896 non-null  int64  \n",
            " 1   Date_Time           16896 non-null  object \n",
            " 2   Customer_ID         16896 non-null  int64  \n",
            " 3   Product_ID          16896 non-null  int64  \n",
            " 4   Quantity            16896 non-null  int64  \n",
            " 5   Price_per_Unit      16896 non-null  float64\n",
            " 6   Return_Status       16896 non-null  object \n",
            " 7   Sales_Channel       16896 non-null  object \n",
            " 8   Total_Sales         16896 non-null  float64\n",
            " 9   Customer_Age_Group  16896 non-null  object \n",
            " 10  Region              16896 non-null  object \n",
            " 11  Product_Category    16896 non-null  object \n",
            "dtypes: float64(2), int64(4), object(6)\n",
            "memory usage: 2.2+ MB\n"
          ]
        }
      ]
    },
    {
      "cell_type": "code",
      "source": [
        "#insightful analysis and KPI calculation"
      ],
      "metadata": {
        "id": "bI1_sDQz_WLE"
      },
      "execution_count": 73,
      "outputs": []
    },
    {
      "cell_type": "code",
      "source": [
        "total_revenue = df['Total_Sales'].sum()\n",
        "print(f\"Total Revenue: {total_revenue}\")\n",
        "\n",
        "avg_order_value = df['Total_Sales'].sum() / df['Invoice_Number'].nunique()\n",
        "print(f\"Average Order Value: {avg_order_value}\")\n",
        "\n",
        "total_units_sold = df['Quantity'].sum()\n",
        "print(f\"Total Units Sold: {total_units_sold}\")"
      ],
      "metadata": {
        "colab": {
          "base_uri": "https://localhost:8080/"
        },
        "id": "jdtoyE8NAoz5",
        "outputId": "2fa1b596-d8ac-489d-f405-4f57e4fd2597"
      },
      "execution_count": 82,
      "outputs": [
        {
          "output_type": "stream",
          "name": "stdout",
          "text": [
            "Total Revenue: 4055441.0400000005\n",
            "Average Order Value: 241.15127787358034\n",
            "Total Units Sold: 67302\n"
          ]
        }
      ]
    },
    {
      "cell_type": "code",
      "source": [
        "sales_by_region = df.groupby('Region')['Total_Sales'].sum()\n",
        "print(sales_by_region)\n",
        "\n",
        "sales_by_region.plot(kind='bar', title=\"Sales by Region\")"
      ],
      "metadata": {
        "colab": {
          "base_uri": "https://localhost:8080/",
          "height": 625
        },
        "id": "Gpw3Yv0pDAX_",
        "outputId": "c3f4d3aa-9336-4825-c45d-884290ca30b2"
      },
      "execution_count": 83,
      "outputs": [
        {
          "output_type": "stream",
          "name": "stdout",
          "text": [
            "Region\n",
            "East     1448930.27\n",
            "North     799790.10\n",
            "South     804407.40\n",
            "West     1002313.27\n",
            "Name: Total_Sales, dtype: float64\n"
          ]
        },
        {
          "output_type": "execute_result",
          "data": {
            "text/plain": [
              "<Axes: title={'center': 'Sales by Region'}, xlabel='Region'>"
            ]
          },
          "metadata": {},
          "execution_count": 83
        },
        {
          "output_type": "display_data",
          "data": {
            "text/plain": [
              "<Figure size 640x480 with 1 Axes>"
            ],
            "image/png": "[encoded data removed]"
          },
          "metadata": {}
        }
      ]
    },
    {
      "cell_type": "code",
      "source": [
        "sales_by_category = df.groupby('Product_Category')['Total_Sales'].sum()\n",
        "print(sales_by_category)\n",
        "sales_by_category.plot(kind='bar', title=\"Sales by Product Category\")"
      ],
      "metadata": {
        "colab": {
          "base_uri": "https://localhost:8080/",
          "height": 648
        },
        "id": "cXWINI-3DfqH",
        "outputId": "e867861c-9d5a-48ea-a011-24d793c0ee62"
      },
      "execution_count": 110,
      "outputs": [
        {
          "output_type": "stream",
          "name": "stdout",
          "text": [
            "Product_Category\n",
            "Accessories     873716.25\n",
            "Clothing       1400401.97\n",
            "Footwear       1781322.82\n",
            "Name: Total_Sales, dtype: float64\n"
          ]
        },
        {
          "output_type": "execute_result",
          "data": {
            "text/plain": [
              "<Axes: title={'center': 'Sales by Product Category'}, xlabel='Product_Category'>"
            ]
          },
          "metadata": {},
          "execution_count": 110
        },
        {
          "output_type": "display_data",
          "data": {
            "text/plain": [
              "<Figure size 640x480 with 1 Axes>"
            ],
            "image/png": "[encoded data removed]"
          },
          "metadata": {}
        }
      ]
    },
    {
      "cell_type": "code",
      "source": [
        "sales_by_age_group = df.groupby('Customer_Age_Group')['Total_Sales'].sum()\n",
        "print(sales_by_age_group)\n",
        "sales_by_age_group.plot(kind='bar', title=\"Sales by Age Group\")"
      ],
      "metadata": {
        "colab": {
          "base_uri": "https://localhost:8080/",
          "height": 643
        },
        "id": "vvvcZZO3FaYK",
        "outputId": "ad6e5a4b-6e27-4ceb-a0a4-a50245e7b3fa"
      },
      "execution_count": 86,
      "outputs": [
        {
          "output_type": "stream",
          "name": "stdout",
          "text": [
            "Customer_Age_Group\n",
            "18-25     723605.69\n",
            "26-35     844540.72\n",
            "36-45     563122.49\n",
            "46-55    1120054.72\n",
            "56+       804117.42\n",
            "Name: Total_Sales, dtype: float64\n"
          ]
        },
        {
          "output_type": "execute_result",
          "data": {
            "text/plain": [
              "<Axes: title={'center': 'Sales by Age Group'}, xlabel='Customer_Age_Group'>"
            ]
          },
          "metadata": {},
          "execution_count": 86
        },
        {
          "output_type": "display_data",
          "data": {
            "text/plain": [
              "<Figure size 640x480 with 1 Axes>"
            ],
            "image/png": "[encoded data removed]"
          },
          "metadata": {}
        }
      ]
    },
    {
      "cell_type": "code",
      "source": [
        "sales_by_channel = df.groupby('Sales_Channel')['Total_Sales'].sum()\n",
        "print(sales_by_channel)"
      ],
      "metadata": {
        "colab": {
          "base_uri": "https://localhost:8080/"
        },
        "id": "_WXRK4VIGKX-",
        "outputId": "16144463-2564-46be-80eb-c00af4672c88"
      },
      "execution_count": 87,
      "outputs": [
        {
          "output_type": "stream",
          "name": "stdout",
          "text": [
            "Sales_Channel\n",
            "In Store      53420.63\n",
            "In-Store    1550053.56\n",
            "On line      182269.21\n",
            "Online      2269697.64\n",
            "Name: Total_Sales, dtype: float64\n"
          ]
        }
      ]
    },
    {
      "cell_type": "code",
      "source": [
        "df['Sales_Channel'].unique()"
      ],
      "metadata": {
        "colab": {
          "base_uri": "https://localhost:8080/"
        },
        "id": "dPAyOVO8Gjmt",
        "outputId": "722a9251-5b20-45b3-9d83-d97b9dcb1389"
      },
      "execution_count": 88,
      "outputs": [
        {
          "output_type": "execute_result",
          "data": {
            "text/plain": [
              "array(['In-Store', 'Online', 'On line', 'In Store'], dtype=object)"
            ]
          },
          "metadata": {},
          "execution_count": 88
        }
      ]
    },
    {
      "cell_type": "code",
      "source": [
        "#cleaning up the Sales_Channel column values into correct unique values\n",
        "df['Sales_Channel'] = df['Sales_Channel'].replace({\n",
        "    'In Store': 'In-Store',\n",
        "    'On line': 'Online'\n",
        "})"
      ],
      "metadata": {
        "id": "TDqukx58GxUi"
      },
      "execution_count": 89,
      "outputs": []
    },
    {
      "cell_type": "code",
      "source": [
        "df['Sales_Channel'].unique()"
      ],
      "metadata": {
        "colab": {
          "base_uri": "https://localhost:8080/"
        },
        "id": "ucAsnuRjHu5C",
        "outputId": "d972a1a0-e672-4084-8e8a-c13493b19911"
      },
      "execution_count": 90,
      "outputs": [
        {
          "output_type": "execute_result",
          "data": {
            "text/plain": [
              "array(['In-Store', 'Online'], dtype=object)"
            ]
          },
          "metadata": {},
          "execution_count": 90
        }
      ]
    },
    {
      "cell_type": "code",
      "source": [
        "sales_by_channel = df.groupby('Sales_Channel')['Total_Sales'].sum()\n",
        "print(sales_by_channel)"
      ],
      "metadata": {
        "colab": {
          "base_uri": "https://localhost:8080/"
        },
        "id": "JsjBrEz0HyyZ",
        "outputId": "2d4d32ad-ee6c-4bf1-fcd2-9b40ed74e9a5"
      },
      "execution_count": 91,
      "outputs": [
        {
          "output_type": "stream",
          "name": "stdout",
          "text": [
            "Sales_Channel\n",
            "In-Store    1603474.19\n",
            "Online      2451966.85\n",
            "Name: Total_Sales, dtype: float64\n"
          ]
        }
      ]
    },
    {
      "cell_type": "code",
      "source": [
        "#return rate\n",
        "total_returns = df[df['Return_Status'] == 'Returned'].shape[0]\n",
        "total_transactions = df.shape[0]\n",
        "return_rate = (total_returns / total_transactions) * 100\n",
        "print(f\"Return Rate: {return_rate:.2f}%\")"
      ],
      "metadata": {
        "colab": {
          "base_uri": "https://localhost:8080/"
        },
        "id": "gnCYsQcrH5hk",
        "outputId": "9d3699a3-a539-4cbd-ed15-343a6b646e15"
      },
      "execution_count": 92,
      "outputs": [
        {
          "output_type": "stream",
          "name": "stdout",
          "text": [
            "Return Rate: 1.08%\n"
          ]
        }
      ]
    },
    {
      "cell_type": "code",
      "source": [
        "#the best performing products\n",
        "top_products = df.groupby('Product_ID')['Total_Sales'].sum().sort_values(ascending=False).head(10)\n",
        "print(\"Top Performing Products by Sales:\")\n",
        "print(top_products)"
      ],
      "metadata": {
        "colab": {
          "base_uri": "https://localhost:8080/"
        },
        "id": "TyrB8R5XINJ3",
        "outputId": "d16f5605-bcb2-4340-9a9c-05ee47c7a810"
      },
      "execution_count": 94,
      "outputs": [
        {
          "output_type": "stream",
          "name": "stdout",
          "text": [
            "Top Performing Products by Sales:\n",
            "Product_ID\n",
            "40    93071.89\n",
            "22    93056.90\n",
            "3     92487.59\n",
            "21    90995.58\n",
            "49    88388.18\n",
            "38    87479.46\n",
            "9     87450.04\n",
            "5     87449.90\n",
            "19    86981.47\n",
            "2     86885.10\n",
            "Name: Total_Sales, dtype: float64\n"
          ]
        }
      ]
    },
    {
      "cell_type": "code",
      "source": [
        "#customer lifetime values (CLTV)\n",
        "cltv = df.groupby('Customer_ID')['Total_Sales'].sum()\n",
        "print(cltv)"
      ],
      "metadata": {
        "colab": {
          "base_uri": "https://localhost:8080/"
        },
        "id": "dP1rtG2tIVdI",
        "outputId": "289e9832-26ad-4a33-c0ef-e9cff3f5df65"
      },
      "execution_count": 97,
      "outputs": [
        {
          "output_type": "stream",
          "name": "stdout",
          "text": [
            "Customer_ID\n",
            "1      39980.91\n",
            "2      40148.15\n",
            "3      39521.25\n",
            "4      51892.18\n",
            "5      48838.04\n",
            "         ...   \n",
            "96     37215.18\n",
            "97     41629.15\n",
            "98     40687.83\n",
            "99     38840.60\n",
            "100    48358.92\n",
            "Name: Total_Sales, Length: 100, dtype: float64\n"
          ]
        }
      ]
    },
    {
      "cell_type": "code",
      "source": [
        "df['Product_Category'].unique()"
      ],
      "metadata": {
        "colab": {
          "base_uri": "https://localhost:8080/"
        },
        "id": "IQUlzLOvIjK9",
        "outputId": "e3d6aba6-86bc-496f-bd31-8db2eda3ee68"
      },
      "execution_count": 99,
      "outputs": [
        {
          "output_type": "execute_result",
          "data": {
            "text/plain": [
              "array(['Footwear', 'Clothing', 'Accessories', 'Foot wear', 'Acessories'],\n",
              "      dtype=object)"
            ]
          },
          "metadata": {},
          "execution_count": 99
        }
      ]
    },
    {
      "cell_type": "code",
      "source": [
        "#cleaning up the Product_Category column values into correct unique values\n",
        "df['Product_Category'] = df['Product_Category'].replace({\n",
        "    'Foot wear': 'Footwear',\n",
        "    'Acessories': 'Accessories'\n",
        "})"
      ],
      "metadata": {
        "id": "M8zMzkdjJhrJ"
      },
      "execution_count": 100,
      "outputs": []
    },
    {
      "cell_type": "code",
      "source": [
        "df['Product_Category'].unique()"
      ],
      "metadata": {
        "colab": {
          "base_uri": "https://localhost:8080/"
        },
        "id": "dX0BXv1LKH7n",
        "outputId": "f3402eec-9e90-48b7-aa18-a17f3e3ab909"
      },
      "execution_count": 101,
      "outputs": [
        {
          "output_type": "execute_result",
          "data": {
            "text/plain": [
              "array(['Footwear', 'Clothing', 'Accessories'], dtype=object)"
            ]
          },
          "metadata": {},
          "execution_count": 101
        }
      ]
    },
    {
      "cell_type": "code",
      "source": [
        "df.info()"
      ],
      "metadata": {
        "colab": {
          "base_uri": "https://localhost:8080/"
        },
        "id": "nOrapEJVKKMt",
        "outputId": "196b52a3-459d-4954-bb01-a97d579233fe"
      },
      "execution_count": 102,
      "outputs": [
        {
          "output_type": "stream",
          "name": "stdout",
          "text": [
            "<class 'pandas.core.frame.DataFrame'>\n",
            "Index: 16896 entries, 0 to 16897\n",
            "Data columns (total 12 columns):\n",
            " #   Column              Non-Null Count  Dtype         \n",
            "---  ------              --------------  -----         \n",
            " 0   Invoice_Number      16896 non-null  int64         \n",
            " 1   Data_Time           16896 non-null  datetime64[ns]\n",
            " 2   Customer_ID         16896 non-null  int64         \n",
            " 3   Product_ID          16896 non-null  int64         \n",
            " 4   Quantity            16896 non-null  int64         \n",
            " 5   Price_per_Unit      16896 non-null  float64       \n",
            " 6   Return_Status       16896 non-null  object        \n",
            " 7   Sales_Channel       16896 non-null  object        \n",
            " 8   Total_Sales         16896 non-null  float64       \n",
            " 9   Customer_Age_Group  16896 non-null  object        \n",
            " 10  Region              16896 non-null  object        \n",
            " 11  Product_Category    16896 non-null  object        \n",
            "dtypes: datetime64[ns](1), float64(2), int64(4), object(5)\n",
            "memory usage: 2.2+ MB\n"
          ]
        }
      ]
    },
    {
      "cell_type": "code",
      "source": [
        "df['Return_Status'].unique()"
      ],
      "metadata": {
        "colab": {
          "base_uri": "https://localhost:8080/"
        },
        "id": "ZbzJ0RwZKMbh",
        "outputId": "3398c4cd-b3d9-47c7-bbd6-9635d2986957"
      },
      "execution_count": 103,
      "outputs": [
        {
          "output_type": "execute_result",
          "data": {
            "text/plain": [
              "array(['Not Returned', 'Returned'], dtype=object)"
            ]
          },
          "metadata": {},
          "execution_count": 103
        }
      ]
    },
    {
      "cell_type": "code",
      "source": [
        "df['Sales_Channel'].unique()"
      ],
      "metadata": {
        "colab": {
          "base_uri": "https://localhost:8080/"
        },
        "id": "fXJQs27uKVu0",
        "outputId": "f17b4966-453e-4a1e-b5d5-8039f8f2b931"
      },
      "execution_count": 104,
      "outputs": [
        {
          "output_type": "execute_result",
          "data": {
            "text/plain": [
              "array(['In-Store', 'Online'], dtype=object)"
            ]
          },
          "metadata": {},
          "execution_count": 104
        }
      ]
    },
    {
      "cell_type": "code",
      "source": [
        "df['Customer_Age_Group'].unique()"
      ],
      "metadata": {
        "colab": {
          "base_uri": "https://localhost:8080/"
        },
        "id": "aCPtKPezKgoL",
        "outputId": "bbd877d4-a26b-4cdd-c4e0-48be8cefcea4"
      },
      "execution_count": 105,
      "outputs": [
        {
          "output_type": "execute_result",
          "data": {
            "text/plain": [
              "array(['26-35', '18-25', '46-55', '56+', '36-45'], dtype=object)"
            ]
          },
          "metadata": {},
          "execution_count": 105
        }
      ]
    },
    {
      "cell_type": "code",
      "source": [
        "df['Region'].unique()"
      ],
      "metadata": {
        "colab": {
          "base_uri": "https://localhost:8080/"
        },
        "id": "qgdbasusKo7s",
        "outputId": "f9e1b81c-9720-4ea5-c5b4-70a74cc362eb"
      },
      "execution_count": 106,
      "outputs": [
        {
          "output_type": "execute_result",
          "data": {
            "text/plain": [
              "array(['West', 'South', 'East', 'North'], dtype=object)"
            ]
          },
          "metadata": {},
          "execution_count": 106
        }
      ]
    },
    {
      "cell_type": "code",
      "source": [
        "df['Product_Category'].unique()"
      ],
      "metadata": {
        "colab": {
          "base_uri": "https://localhost:8080/"
        },
        "id": "gUiI_TszKt_L",
        "outputId": "fe6e5443-013d-4ce6-a8af-afb295d00f12"
      },
      "execution_count": 107,
      "outputs": [
        {
          "output_type": "execute_result",
          "data": {
            "text/plain": [
              "array(['Footwear', 'Clothing', 'Accessories'], dtype=object)"
            ]
          },
          "metadata": {},
          "execution_count": 107
        }
      ]
    },
    {
      "cell_type": "code",
      "source": [
        "df"
      ],
      "metadata": {
        "colab": {
          "base_uri": "https://localhost:8080/",
          "height": 597
        },
        "id": "eSTXDzJMK0dG",
        "outputId": "7f198959-0bf2-4910-90d9-e6709dee5952"
      },
      "execution_count": 111,
      "outputs": [
        {
          "output_type": "execute_result",
          "data": {
            "text/plain": [
              "       Invoice_Number           Data_Time  Customer_ID  Product_ID  Quantity  \\\n",
              "0               10000 2021-01-01 10:20:00           74           3         2   \n",
              "1               10001 2021-01-08 03:10:00           92          10         6   \n",
              "2                1000 2021-01-05 20:24:00           86          20         5   \n",
              "3               10002 2021-01-11 03:43:00           57          11         6   \n",
              "4               10003 2021-01-02 07:26:00           73          25         5   \n",
              "...               ...                 ...          ...         ...       ...   \n",
              "16893            9994 2021-01-02 10:36:00           53          24         1   \n",
              "16894            9995 2021-01-09 12:41:00           73          15         3   \n",
              "16895            9997 2021-01-05 06:56:00           83          23         2   \n",
              "16896            9998 2021-01-02 10:23:00           65          31         7   \n",
              "16897            9999 2021-01-07 04:34:00           92           8         7   \n",
              "\n",
              "       Price_per_Unit Return_Status Sales_Channel  Total_Sales  \\\n",
              "0               24.00  Not Returned      In-Store        48.00   \n",
              "1               40.24  Not Returned      In-Store       241.44   \n",
              "2               25.96  Not Returned        Online       129.80   \n",
              "3               85.86  Not Returned        Online       515.16   \n",
              "4               72.88  Not Returned      In-Store       364.40   \n",
              "...               ...           ...           ...          ...   \n",
              "16893           40.80  Not Returned      In-Store        40.80   \n",
              "16894           40.81  Not Returned      In-Store       122.43   \n",
              "16895           84.65  Not Returned        Online       169.30   \n",
              "16896           51.45      Returned      In-Store       360.15   \n",
              "16897           82.77  Not Returned        Online       579.39   \n",
              "\n",
              "      Customer_Age_Group Region Product_Category  \n",
              "0                  26-35   West         Footwear  \n",
              "1                  18-25  South         Footwear  \n",
              "2                  18-25   East         Clothing  \n",
              "3                  46-55  North         Clothing  \n",
              "4                    56+   West         Clothing  \n",
              "...                  ...    ...              ...  \n",
              "16893              46-55   East      Accessories  \n",
              "16894                56+   West         Footwear  \n",
              "16895                56+   East         Clothing  \n",
              "16896              26-35   West         Clothing  \n",
              "16897              18-25  South      Accessories  \n",
              "\n",
              "[16896 rows x 12 columns]"
            ],
            "text/html": [
              "\n",
              "  <div id=\"df-057efd57-5593-49b0-88c1-34803729e5fa\" class=\"colab-df-container\">\n",
              "    <div>\n",
              "<style scoped>\n",
              "    .dataframe tbody tr th:only-of-type {\n",
              "        vertical-align: middle;\n",
              "    }\n",
              "\n",
              "    .dataframe tbody tr th {\n",
              "        vertical-align: top;\n",
              "    }\n",
              "\n",
              "    .dataframe thead th {\n",
              "        text-align: right;\n",
              "    }\n",
              "</style>\n",
              "<table border=\"1\" class=\"dataframe\">\n",
              "  <thead>\n",
              "    <tr style=\"text-align: right;\">\n",
              "      <th></th>\n",
              "      <th>Invoice_Number</th>\n",
              "      <th>Data_Time</th>\n",
              "      <th>Customer_ID</th>\n",
              "      <th>Product_ID</th>\n",
              "      <th>Quantity</th>\n",
              "      <th>Price_per_Unit</th>\n",
              "      <th>Return_Status</th>\n",
              "      <th>Sales_Channel</th>\n",
              "      <th>Total_Sales</th>\n",
              "      <th>Customer_Age_Group</th>\n",
              "      <th>Region</th>\n",
              "      <th>Product_Category</th>\n",
              "    </tr>\n",
              "  </thead>\n",
              "  <tbody>\n",
              "    <tr>\n",
              "      <th>0</th>\n",
              "      <td>10000</td>\n",
              "      <td>2021-01-01 10:20:00</td>\n",
              "      <td>74</td>\n",
              "      <td>3</td>\n",
              "      <td>2</td>\n",
              "      <td>24.00</td>\n",
              "      <td>Not Returned</td>\n",
              "      <td>In-Store</td>\n",
              "      <td>48.00</td>\n",
              "      <td>26-35</td>\n",
              "      <td>West</td>\n",
              "      <td>Footwear</td>\n",
              "    </tr>\n",
              "    <tr>\n",
              "      <th>1</th>\n",
              "      <td>10001</td>\n",
              "      <td>2021-01-08 03:10:00</td>\n",
              "      <td>92</td>\n",
              "      <td>10</td>\n",
              "      <td>6</td>\n",
              "      <td>40.24</td>\n",
              "      <td>Not Returned</td>\n",
              "      <td>In-Store</td>\n",
              "      <td>241.44</td>\n",
              "      <td>18-25</td>\n",
              "      <td>South</td>\n",
              "      <td>Footwear</td>\n",
              "    </tr>\n",
              "    <tr>\n",
              "      <th>2</th>\n",
              "      <td>1000</td>\n",
              "      <td>2021-01-05 20:24:00</td>\n",
              "      <td>86</td>\n",
              "      <td>20</td>\n",
              "      <td>5</td>\n",
              "      <td>25.96</td>\n",
              "      <td>Not Returned</td>\n",
              "      <td>Online</td>\n",
              "      <td>129.80</td>\n",
              "      <td>18-25</td>\n",
              "      <td>East</td>\n",
              "      <td>Clothing</td>\n",
              "    </tr>\n",
              "    <tr>\n",
              "      <th>3</th>\n",
              "      <td>10002</td>\n",
              "      <td>2021-01-11 03:43:00</td>\n",
              "      <td>57</td>\n",
              "      <td>11</td>\n",
              "      <td>6</td>\n",
              "      <td>85.86</td>\n",
              "      <td>Not Returned</td>\n",
              "      <td>Online</td>\n",
              "      <td>515.16</td>\n",
              "      <td>46-55</td>\n",
              "      <td>North</td>\n",
              "      <td>Clothing</td>\n",
              "    </tr>\n",
              "    <tr>\n",
              "      <th>4</th>\n",
              "      <td>10003</td>\n",
              "      <td>2021-01-02 07:26:00</td>\n",
              "      <td>73</td>\n",
              "      <td>25</td>\n",
              "      <td>5</td>\n",
              "      <td>72.88</td>\n",
              "      <td>Not Returned</td>\n",
              "      <td>In-Store</td>\n",
              "      <td>364.40</td>\n",
              "      <td>56+</td>\n",
              "      <td>West</td>\n",
              "      <td>Clothing</td>\n",
              "    </tr>\n",
              "    <tr>\n",
              "      <th>...</th>\n",
              "      <td>...</td>\n",
              "      <td>...</td>\n",
              "      <td>...</td>\n",
              "      <td>...</td>\n",
              "      <td>...</td>\n",
              "      <td>...</td>\n",
              "      <td>...</td>\n",
              "      <td>...</td>\n",
              "      <td>...</td>\n",
              "      <td>...</td>\n",
              "      <td>...</td>\n",
              "      <td>...</td>\n",
              "    </tr>\n",
              "    <tr>\n",
              "      <th>16893</th>\n",
              "      <td>9994</td>\n",
              "      <td>2021-01-02 10:36:00</td>\n",
              "      <td>53</td>\n",
              "      <td>24</td>\n",
              "      <td>1</td>\n",
              "      <td>40.80</td>\n",
              "      <td>Not Returned</td>\n",
              "      <td>In-Store</td>\n",
              "      <td>40.80</td>\n",
              "      <td>46-55</td>\n",
              "      <td>East</td>\n",
              "      <td>Accessories</td>\n",
              "    </tr>\n",
              "    <tr>\n",
              "      <th>16894</th>\n",
              "      <td>9995</td>\n",
              "      <td>2021-01-09 12:41:00</td>\n",
              "      <td>73</td>\n",
              "      <td>15</td>\n",
              "      <td>3</td>\n",
              "      <td>40.81</td>\n",
              "      <td>Not Returned</td>\n",
              "      <td>In-Store</td>\n",
              "      <td>122.43</td>\n",
              "      <td>56+</td>\n",
              "      <td>West</td>\n",
              "      <td>Footwear</td>\n",
              "    </tr>\n",
              "    <tr>\n",
              "      <th>16895</th>\n",
              "      <td>9997</td>\n",
              "      <td>2021-01-05 06:56:00</td>\n",
              "      <td>83</td>\n",
              "      <td>23</td>\n",
              "      <td>2</td>\n",
              "      <td>84.65</td>\n",
              "      <td>Not Returned</td>\n",
              "      <td>Online</td>\n",
              "      <td>169.30</td>\n",
              "      <td>56+</td>\n",
              "      <td>East</td>\n",
              "      <td>Clothing</td>\n",
              "    </tr>\n",
              "    <tr>\n",
              "      <th>16896</th>\n",
              "      <td>9998</td>\n",
              "      <td>2021-01-02 10:23:00</td>\n",
              "      <td>65</td>\n",
              "      <td>31</td>\n",
              "      <td>7</td>\n",
              "      <td>51.45</td>\n",
              "      <td>Returned</td>\n",
              "      <td>In-Store</td>\n",
              "      <td>360.15</td>\n",
              "      <td>26-35</td>\n",
              "      <td>West</td>\n",
              "      <td>Clothing</td>\n",
              "    </tr>\n",
              "    <tr>\n",
              "      <th>16897</th>\n",
              "      <td>9999</td>\n",
              "      <td>2021-01-07 04:34:00</td>\n",
              "      <td>92</td>\n",
              "      <td>8</td>\n",
              "      <td>7</td>\n",
              "      <td>82.77</td>\n",
              "      <td>Not Returned</td>\n",
              "      <td>Online</td>\n",
              "      <td>579.39</td>\n",
              "      <td>18-25</td>\n",
              "      <td>South</td>\n",
              "      <td>Accessories</td>\n",
              "    </tr>\n",
              "  </tbody>\n",
              "</table>\n",
              "<p>16896 rows × 12 columns</p>\n",
              "</div>\n",
              "    <div class=\"colab-df-buttons\">\n",
              "\n",
              "  <div class=\"colab-df-container\">\n",
              "    <button class=\"colab-df-convert\" onclick=\"convertToInteractive('df-057efd57-5593-49b0-88c1-34803729e5fa')\"\n",
              "            title=\"Convert this dataframe to an interactive table.\"\n",
              "            style=\"display:none;\">\n",
              "\n",
              "  <svg xmlns=\"http://www.w3.org/2000/svg\" height=\"24px\" viewBox=\"0 -960 960 960\">\n",
              "    <path d=\"M120-120v-720h720v720H120Zm60-500h600v-160H180v160Zm220 220h160v-160H400v160Zm0 220h160v-160H400v160ZM180-400h160v-160H180v160Zm440 0h160v-160H620v160ZM180-180h160v-160H180v160Zm440 0h160v-160H620v160Z\"/>\n",
              "  </svg>\n",
              "    </button>\n",
              "\n",
              "  <style>\n",
              "    .colab-df-container {\n",
              "      display:flex;\n",
              "      gap: 12px;\n",
              "    }\n",
              "\n",
              "    .colab-df-convert {\n",
              "      background-color: #E8F0FE;\n",
              "      border: none;\n",
              "      border-radius: 50%;\n",
              "      cursor: pointer;\n",
              "      display: none;\n",
              "      fill: #1967D2;\n",
              "      height: 32px;\n",
              "      padding: 0 0 0 0;\n",
              "      width: 32px;\n",
              "    }\n",
              "\n",
              "    .colab-df-convert:hover {\n",
              "      background-color: #E2EBFA;\n",
              "      box-shadow: 0px 1px 2px rgba(60, 64, 67, 0.3), 0px 1px 3px 1px rgba(60, 64, 67, 0.15);\n",
              "      fill: #174EA6;\n",
              "    }\n",
              "\n",
              "    .colab-df-buttons div {\n",
              "      margin-bottom: 4px;\n",
              "    }\n",
              "\n",
              "    [theme=dark] .colab-df-convert {\n",
              "      background-color: #3B4455;\n",
              "      fill: #D2E3FC;\n",
              "    }\n",
              "\n",
              "    [theme=dark] .colab-df-convert:hover {\n",
              "      background-color: #434B5C;\n",
              "      box-shadow: 0px 1px 3px 1px rgba(0, 0, 0, 0.15);\n",
              "      filter: drop-shadow(0px 1px 2px rgba(0, 0, 0, 0.3));\n",
              "      fill: #FFFFFF;\n",
              "    }\n",
              "  </style>\n",
              "\n",
              "    <script>\n",
              "      const buttonEl =\n",
              "        document.querySelector('#df-057efd57-5593-49b0-88c1-34803729e5fa button.colab-df-convert');\n",
              "      buttonEl.style.display =\n",
              "        google.colab.kernel.accessAllowed ? 'block' : 'none';\n",
              "\n",
              "      async function convertToInteractive(key) {\n",
              "        const element = document.querySelector('#df-057efd57-5593-49b0-88c1-34803729e5fa');\n",
              "        const dataTable =\n",
              "          await google.colab.kernel.invokeFunction('convertToInteractive',\n",
              "                                                    [key], {});\n",
              "        if (!dataTable) return;\n",
              "\n",
              "        const docLinkHtml = 'Like what you see? Visit the ' +\n",
              "          '<a target=\"_blank\" href=https://colab.research.google.com/notebooks/data_table.ipynb>data table notebook</a>'\n",
              "          + ' to learn more about interactive tables.';\n",
              "        element.innerHTML = '';\n",
              "        dataTable['output_type'] = 'display_data';\n",
              "        await google.colab.output.renderOutput(dataTable, element);\n",
              "        const docLink = document.createElement('div');\n",
              "        docLink.innerHTML = docLinkHtml;\n",
              "        element.appendChild(docLink);\n",
              "      }\n",
              "    </script>\n",
              "  </div>\n",
              "\n",
              "\n",
              "<div id=\"df-2ef575fc-18c4-4d83-8cc3-2054db2b74c0\">\n",
              "  <button class=\"colab-df-quickchart\" onclick=\"quickchart('df-2ef575fc-18c4-4d83-8cc3-2054db2b74c0')\"\n",
              "            title=\"Suggest charts\"\n",
              "            style=\"display:none;\">\n",
              "\n",
              "<svg xmlns=\"http://www.w3.org/2000/svg\" height=\"24px\"viewBox=\"0 0 24 24\"\n",
              "     width=\"24px\">\n",
              "    <g>\n",
              "        <path d=\"M19 3H5c-1.1 0-2 .9-2 2v14c0 1.1.9 2 2 2h14c1.1 0 2-.9 2-2V5c0-1.1-.9-2-2-2zM9 17H7v-7h2v7zm4 0h-2V7h2v10zm4 0h-2v-4h2v4z\"/>\n",
              "    </g>\n",
              "</svg>\n",
              "  </button>\n",
              "\n",
              "<style>\n",
              "  .colab-df-quickchart {\n",
              "      --bg-color: #E8F0FE;\n",
              "      --fill-color: #1967D2;\n",
              "      --hover-bg-color: #E2EBFA;\n",
              "      --hover-fill-color: #174EA6;\n",
              "      --disabled-fill-color: #AAA;\n",
              "      --disabled-bg-color: #DDD;\n",
              "  }\n",
              "\n",
              "  [theme=dark] .colab-df-quickchart {\n",
              "      --bg-color: #3B4455;\n",
              "      --fill-color: #D2E3FC;\n",
              "      --hover-bg-color: #434B5C;\n",
              "      --hover-fill-color: #FFFFFF;\n",
              "      --disabled-bg-color: #3B4455;\n",
              "      --disabled-fill-color: #666;\n",
              "  }\n",
              "\n",
              "  .colab-df-quickchart {\n",
              "    background-color: var(--bg-color);\n",
              "    border: none;\n",
              "    border-radius: 50%;\n",
              "    cursor: pointer;\n",
              "    display: none;\n",
              "    fill: var(--fill-color);\n",
              "    height: 32px;\n",
              "    padding: 0;\n",
              "    width: 32px;\n",
              "  }\n",
              "\n",
              "  .colab-df-quickchart:hover {\n",
              "    background-color: var(--hover-bg-color);\n",
              "    box-shadow: 0 1px 2px rgba(60, 64, 67, 0.3), 0 1px 3px 1px rgba(60, 64, 67, 0.15);\n",
              "    fill: var(--button-hover-fill-color);\n",
              "  }\n",
              "\n",
              "  .colab-df-quickchart-complete:disabled,\n",
              "  .colab-df-quickchart-complete:disabled:hover {\n",
              "    background-color: var(--disabled-bg-color);\n",
              "    fill: var(--disabled-fill-color);\n",
              "    box-shadow: none;\n",
              "  }\n",
              "\n",
              "  .colab-df-spinner {\n",
              "    border: 2px solid var(--fill-color);\n",
              "    border-color: transparent;\n",
              "    border-bottom-color: var(--fill-color);\n",
              "    animation:\n",
              "      spin 1s steps(1) infinite;\n",
              "  }\n",
              "\n",
              "  @keyframes spin {\n",
              "    0% {\n",
              "      border-color: transparent;\n",
              "      border-bottom-color: var(--fill-color);\n",
              "      border-left-color: var(--fill-color);\n",
              "    }\n",
              "    20% {\n",
              "      border-color: transparent;\n",
              "      border-left-color: var(--fill-color);\n",
              "      border-top-color: var(--fill-color);\n",
              "    }\n",
              "    30% {\n",
              "      border-color: transparent;\n",
              "      border-left-color: var(--fill-color);\n",
              "      border-top-color: var(--fill-color);\n",
              "      border-right-color: var(--fill-color);\n",
              "    }\n",
              "    40% {\n",
              "      border-color: transparent;\n",
              "      border-right-color: var(--fill-color);\n",
              "      border-top-color: var(--fill-color);\n",
              "    }\n",
              "    60% {\n",
              "      border-color: transparent;\n",
              "      border-right-color: var(--fill-color);\n",
              "    }\n",
              "    80% {\n",
              "      border-color: transparent;\n",
              "      border-right-color: var(--fill-color);\n",
              "      border-bottom-color: var(--fill-color);\n",
              "    }\n",
              "    90% {\n",
              "      border-color: transparent;\n",
              "      border-bottom-color: var(--fill-color);\n",
              "    }\n",
              "  }\n",
              "</style>\n",
              "\n",
              "  <script>\n",
              "    async function quickchart(key) {\n",
              "      const quickchartButtonEl =\n",
              "        document.querySelector('#' + key + ' button');\n",
              "      quickchartButtonEl.disabled = true;  // To prevent multiple clicks.\n",
              "      quickchartButtonEl.classList.add('colab-df-spinner');\n",
              "      try {\n",
              "        const charts = await google.colab.kernel.invokeFunction(\n",
              "            'suggestCharts', [key], {});\n",
              "      } catch (error) {\n",
              "        console.error('Error during call to suggestCharts:', error);\n",
              "      }\n",
              "      quickchartButtonEl.classList.remove('colab-df-spinner');\n",
              "      quickchartButtonEl.classList.add('colab-df-quickchart-complete');\n",
              "    }\n",
              "    (() => {\n",
              "      let quickchartButtonEl =\n",
              "        document.querySelector('#df-2ef575fc-18c4-4d83-8cc3-2054db2b74c0 button');\n",
              "      quickchartButtonEl.style.display =\n",
              "        google.colab.kernel.accessAllowed ? 'block' : 'none';\n",
              "    })();\n",
              "  </script>\n",
              "</div>\n",
              "\n",
              "  <div id=\"id_11ecc0ca-ddf7-4212-b58d-c4c24e6cca07\">\n",
              "    <style>\n",
              "      .colab-df-generate {\n",
              "        background-color: #E8F0FE;\n",
              "        border: none;\n",
              "        border-radius: 50%;\n",
              "        cursor: pointer;\n",
              "        display: none;\n",
              "        fill: #1967D2;\n",
              "        height: 32px;\n",
              "        padding: 0 0 0 0;\n",
              "        width: 32px;\n",
              "      }\n",
              "\n",
              "      .colab-df-generate:hover {\n",
              "        background-color: #E2EBFA;\n",
              "        box-shadow: 0px 1px 2px rgba(60, 64, 67, 0.3), 0px 1px 3px 1px rgba(60, 64, 67, 0.15);\n",
              "        fill: #174EA6;\n",
              "      }\n",
              "\n",
              "      [theme=dark] .colab-df-generate {\n",
              "        background-color: #3B4455;\n",
              "        fill: #D2E3FC;\n",
              "      }\n",
              "\n",
              "      [theme=dark] .colab-df-generate:hover {\n",
              "        background-color: #434B5C;\n",
              "        box-shadow: 0px 1px 3px 1px rgba(0, 0, 0, 0.15);\n",
              "        filter: drop-shadow(0px 1px 2px rgba(0, 0, 0, 0.3));\n",
              "        fill: #FFFFFF;\n",
              "      }\n",
              "    </style>\n",
              "    <button class=\"colab-df-generate\" onclick=\"generateWithVariable('df')\"\n",
              "            title=\"Generate code using this dataframe.\"\n",
              "            style=\"display:none;\">\n",
              "\n",
              "  <svg xmlns=\"http://www.w3.org/2000/svg\" height=\"24px\"viewBox=\"0 0 24 24\"\n",
              "       width=\"24px\">\n",
              "    <path d=\"M7,19H8.4L18.45,9,17,7.55,7,17.6ZM5,21V16.75L18.45,3.32a2,2,0,0,1,2.83,0l1.4,1.43a1.91,1.91,0,0,1,.58,1.4,1.91,1.91,0,0,1-.58,1.4L9.25,21ZM18.45,9,17,7.55Zm-12,3A5.31,5.31,0,0,0,4.9,8.1,5.31,5.31,0,0,0,1,6.5,5.31,5.31,0,0,0,4.9,4.9,5.31,5.31,0,0,0,6.5,1,5.31,5.31,0,0,0,8.1,4.9,5.31,5.31,0,0,0,12,6.5,5.46,5.46,0,0,0,6.5,12Z\"/>\n",
              "  </svg>\n",
              "    </button>\n",
              "    <script>\n",
              "      (() => {\n",
              "      const buttonEl =\n",
              "        document.querySelector('#id_11ecc0ca-ddf7-4212-b58d-c4c24e6cca07 button.colab-df-generate');\n",
              "      buttonEl.style.display =\n",
              "        google.colab.kernel.accessAllowed ? 'block' : 'none';\n",
              "\n",
              "      buttonEl.onclick = () => {\n",
              "        google.colab.notebook.generateWithVariable('df');\n",
              "      }\n",
              "      })();\n",
              "    </script>\n",
              "  </div>\n",
              "\n",
              "    </div>\n",
              "  </div>\n"
            ],
            "application/vnd.google.colaboratory.intrinsic+json": {
              "type": "dataframe",
              "variable_name": "df",
              "summary": "{\n  \"name\": \"df\",\n  \"rows\": 16896,\n  \"fields\": [\n    {\n      \"column\": \"Invoice_Number\",\n      \"properties\": {\n        \"dtype\": \"number\",\n        \"std\": 5474,\n        \"min\": 1000,\n        \"max\": 19999,\n        \"num_unique_values\": 16817,\n        \"samples\": [\n          10050,\n          15251,\n          15506\n        ],\n        \"semantic_type\": \"\",\n        \"description\": \"\"\n      }\n    },\n    {\n      \"column\": \"Data_Time\",\n      \"properties\": {\n        \"dtype\": \"date\",\n        \"min\": \"2021-01-01 00:01:00\",\n        \"max\": \"2031-01-26 01:03:00\",\n        \"num_unique_values\": 9997,\n        \"samples\": [\n          \"2021-01-04 00:08:00\",\n          \"2021-01-04 21:46:00\",\n          \"2021-01-11 07:49:00\"\n        ],\n        \"semantic_type\": \"\",\n        \"description\": \"\"\n      }\n    },\n    {\n      \"column\": \"Customer_ID\",\n      \"properties\": {\n        \"dtype\": \"number\",\n        \"std\": 28,\n        \"min\": 1,\n        \"max\": 100,\n        \"num_unique_values\": 100,\n        \"samples\": [\n          75,\n          6,\n          9\n        ],\n        \"semantic_type\": \"\",\n        \"description\": \"\"\n      }\n    },\n    {\n      \"column\": \"Product_ID\",\n      \"properties\": {\n        \"dtype\": \"number\",\n        \"std\": 14,\n        \"min\": 1,\n        \"max\": 50,\n        \"num_unique_values\": 50,\n        \"samples\": [\n          21,\n          13,\n          2\n        ],\n        \"semantic_type\": \"\",\n        \"description\": \"\"\n      }\n    },\n    {\n      \"column\": \"Quantity\",\n      \"properties\": {\n        \"dtype\": \"number\",\n        \"std\": 1,\n        \"min\": 1,\n        \"max\": 10,\n        \"num_unique_values\": 8,\n        \"samples\": [\n          6,\n          1,\n          2\n        ],\n        \"semantic_type\": \"\",\n        \"description\": \"\"\n      }\n    },\n    {\n      \"column\": \"Price_per_Unit\",\n      \"properties\": {\n        \"dtype\": \"number\",\n        \"std\": 23.22943753767194,\n        \"min\": 20.0,\n        \"max\": 99.99,\n        \"num_unique_values\": 7008,\n        \"samples\": [\n          68.76,\n          92.15,\n          72.71\n        ],\n        \"semantic_type\": \"\",\n        \"description\": \"\"\n      }\n    },\n    {\n      \"column\": \"Return_Status\",\n      \"properties\": {\n        \"dtype\": \"category\",\n        \"num_unique_values\": 2,\n        \"samples\": [\n          \"Returned\",\n          \"Not Returned\"\n        ],\n        \"semantic_type\": \"\",\n        \"description\": \"\"\n      }\n    },\n    {\n      \"column\": \"Sales_Channel\",\n      \"properties\": {\n        \"dtype\": \"category\",\n        \"num_unique_values\": 2,\n        \"samples\": [\n          \"Online\",\n          \"In-Store\"\n        ],\n        \"semantic_type\": \"\",\n        \"description\": \"\"\n      }\n    },\n    {\n      \"column\": \"Total_Sales\",\n      \"properties\": {\n        \"dtype\": \"number\",\n        \"std\": 159.4722506586427,\n        \"min\": 20.12,\n        \"max\": 699.93,\n        \"num_unique_values\": 12783,\n        \"samples\": [\n          240.56,\n          180.04\n        ],\n        \"semantic_type\": \"\",\n        \"description\": \"\"\n      }\n    },\n    {\n      \"column\": \"Customer_Age_Group\",\n      \"properties\": {\n        \"dtype\": \"category\",\n        \"num_unique_values\": 5,\n        \"samples\": [\n          \"18-25\",\n          \"36-45\"\n        ],\n        \"semantic_type\": \"\",\n        \"description\": \"\"\n      }\n    },\n    {\n      \"column\": \"Region\",\n      \"properties\": {\n        \"dtype\": \"category\",\n        \"num_unique_values\": 4,\n        \"samples\": [\n          \"South\",\n          \"North\"\n        ],\n        \"semantic_type\": \"\",\n        \"description\": \"\"\n      }\n    },\n    {\n      \"column\": \"Product_Category\",\n      \"properties\": {\n        \"dtype\": \"category\",\n        \"num_unique_values\": 3,\n        \"samples\": [\n          \"Footwear\",\n          \"Clothing\"\n        ],\n        \"semantic_type\": \"\",\n        \"description\": \"\"\n      }\n    }\n  ]\n}"
            }
          },
          "metadata": {},
          "execution_count": 111
        }
      ]
    },
    {
      "cell_type": "code",
      "source": [
        "df = df.rename(columns={'Data_Time': 'Date_Time'})"
      ],
      "metadata": {
        "id": "KUbVPNsBMWHN"
      },
      "execution_count": 112,
      "outputs": []
    },
    {
      "cell_type": "code",
      "source": [
        "df"
      ],
      "metadata": {
        "colab": {
          "base_uri": "https://localhost:8080/",
          "height": 597
        },
        "id": "qstFQLgTM_l5",
        "outputId": "de6f6416-85d7-487c-f7f0-41a91f2cb3bc"
      },
      "execution_count": 113,
      "outputs": [
        {
          "output_type": "execute_result",
          "data": {
            "text/plain": [
              "       Invoice_Number           Date_Time  Customer_ID  Product_ID  Quantity  \\\n",
              "0               10000 2021-01-01 10:20:00           74           3         2   \n",
              "1               10001 2021-01-08 03:10:00           92          10         6   \n",
              "2                1000 2021-01-05 20:24:00           86          20         5   \n",
              "3               10002 2021-01-11 03:43:00           57          11         6   \n",
              "4               10003 2021-01-02 07:26:00           73          25         5   \n",
              "...               ...                 ...          ...         ...       ...   \n",
              "16893            9994 2021-01-02 10:36:00           53          24         1   \n",
              "16894            9995 2021-01-09 12:41:00           73          15         3   \n",
              "16895            9997 2021-01-05 06:56:00           83          23         2   \n",
              "16896            9998 2021-01-02 10:23:00           65          31         7   \n",
              "16897            9999 2021-01-07 04:34:00           92           8         7   \n",
              "\n",
              "       Price_per_Unit Return_Status Sales_Channel  Total_Sales  \\\n",
              "0               24.00  Not Returned      In-Store        48.00   \n",
              "1               40.24  Not Returned      In-Store       241.44   \n",
              "2               25.96  Not Returned        Online       129.80   \n",
              "3               85.86  Not Returned        Online       515.16   \n",
              "4               72.88  Not Returned      In-Store       364.40   \n",
              "...               ...           ...           ...          ...   \n",
              "16893           40.80  Not Returned      In-Store        40.80   \n",
              "16894           40.81  Not Returned      In-Store       122.43   \n",
              "16895           84.65  Not Returned        Online       169.30   \n",
              "16896           51.45      Returned      In-Store       360.15   \n",
              "16897           82.77  Not Returned        Online       579.39   \n",
              "\n",
              "      Customer_Age_Group Region Product_Category  \n",
              "0                  26-35   West         Footwear  \n",
              "1                  18-25  South         Footwear  \n",
              "2                  18-25   East         Clothing  \n",
              "3                  46-55  North         Clothing  \n",
              "4                    56+   West         Clothing  \n",
              "...                  ...    ...              ...  \n",
              "16893              46-55   East      Accessories  \n",
              "16894                56+   West         Footwear  \n",
              "16895                56+   East         Clothing  \n",
              "16896              26-35   West         Clothing  \n",
              "16897              18-25  South      Accessories  \n",
              "\n",
              "[16896 rows x 12 columns]"
            ],
            "text/html": [
              "\n",
              "  <div id=\"df-8fa0805d-f903-47d5-935c-374d980257fe\" class=\"colab-df-container\">\n",
              "    <div>\n",
              "<style scoped>\n",
              "    .dataframe tbody tr th:only-of-type {\n",
              "        vertical-align: middle;\n",
              "    }\n",
              "\n",
              "    .dataframe tbody tr th {\n",
              "        vertical-align: top;\n",
              "    }\n",
              "\n",
              "    .dataframe thead th {\n",
              "        text-align: right;\n",
              "    }\n",
              "</style>\n",
              "<table border=\"1\" class=\"dataframe\">\n",
              "  <thead>\n",
              "    <tr style=\"text-align: right;\">\n",
              "      <th></th>\n",
              "      <th>Invoice_Number</th>\n",
              "      <th>Date_Time</th>\n",
              "      <th>Customer_ID</th>\n",
              "      <th>Product_ID</th>\n",
              "      <th>Quantity</th>\n",
              "      <th>Price_per_Unit</th>\n",
              "      <th>Return_Status</th>\n",
              "      <th>Sales_Channel</th>\n",
              "      <th>Total_Sales</th>\n",
              "      <th>Customer_Age_Group</th>\n",
              "      <th>Region</th>\n",
              "      <th>Product_Category</th>\n",
              "    </tr>\n",
              "  </thead>\n",
              "  <tbody>\n",
              "    <tr>\n",
              "      <th>0</th>\n",
              "      <td>10000</td>\n",
              "      <td>2021-01-01 10:20:00</td>\n",
              "      <td>74</td>\n",
              "      <td>3</td>\n",
              "      <td>2</td>\n",
              "      <td>24.00</td>\n",
              "      <td>Not Returned</td>\n",
              "      <td>In-Store</td>\n",
              "      <td>48.00</td>\n",
              "      <td>26-35</td>\n",
              "      <td>West</td>\n",
              "      <td>Footwear</td>\n",
              "    </tr>\n",
              "    <tr>\n",
              "      <th>1</th>\n",
              "      <td>10001</td>\n",
              "      <td>2021-01-08 03:10:00</td>\n",
              "      <td>92</td>\n",
              "      <td>10</td>\n",
              "      <td>6</td>\n",
              "      <td>40.24</td>\n",
              "      <td>Not Returned</td>\n",
              "      <td>In-Store</td>\n",
              "      <td>241.44</td>\n",
              "      <td>18-25</td>\n",
              "      <td>South</td>\n",
              "      <td>Footwear</td>\n",
              "    </tr>\n",
              "    <tr>\n",
              "      <th>2</th>\n",
              "      <td>1000</td>\n",
              "      <td>2021-01-05 20:24:00</td>\n",
              "      <td>86</td>\n",
              "      <td>20</td>\n",
              "      <td>5</td>\n",
              "      <td>25.96</td>\n",
              "      <td>Not Returned</td>\n",
              "      <td>Online</td>\n",
              "      <td>129.80</td>\n",
              "      <td>18-25</td>\n",
              "      <td>East</td>\n",
              "      <td>Clothing</td>\n",
              "    </tr>\n",
              "    <tr>\n",
              "      <th>3</th>\n",
              "      <td>10002</td>\n",
              "      <td>2021-01-11 03:43:00</td>\n",
              "      <td>57</td>\n",
              "      <td>11</td>\n",
              "      <td>6</td>\n",
              "      <td>85.86</td>\n",
              "      <td>Not Returned</td>\n",
              "      <td>Online</td>\n",
              "      <td>515.16</td>\n",
              "      <td>46-55</td>\n",
              "      <td>North</td>\n",
              "      <td>Clothing</td>\n",
              "    </tr>\n",
              "    <tr>\n",
              "      <th>4</th>\n",
              "      <td>10003</td>\n",
              "      <td>2021-01-02 07:26:00</td>\n",
              "      <td>73</td>\n",
              "      <td>25</td>\n",
              "      <td>5</td>\n",
              "      <td>72.88</td>\n",
              "      <td>Not Returned</td>\n",
              "      <td>In-Store</td>\n",
              "      <td>364.40</td>\n",
              "      <td>56+</td>\n",
              "      <td>West</td>\n",
              "      <td>Clothing</td>\n",
              "    </tr>\n",
              "    <tr>\n",
              "      <th>...</th>\n",
              "      <td>...</td>\n",
              "      <td>...</td>\n",
              "      <td>...</td>\n",
              "      <td>...</td>\n",
              "      <td>...</td>\n",
              "      <td>...</td>\n",
              "      <td>...</td>\n",
              "      <td>...</td>\n",
              "      <td>...</td>\n",
              "      <td>...</td>\n",
              "      <td>...</td>\n",
              "      <td>...</td>\n",
              "    </tr>\n",
              "    <tr>\n",
              "      <th>16893</th>\n",
              "      <td>9994</td>\n",
              "      <td>2021-01-02 10:36:00</td>\n",
              "      <td>53</td>\n",
              "      <td>24</td>\n",
              "      <td>1</td>\n",
              "      <td>40.80</td>\n",
              "      <td>Not Returned</td>\n",
              "      <td>In-Store</td>\n",
              "      <td>40.80</td>\n",
              "      <td>46-55</td>\n",
              "      <td>East</td>\n",
              "      <td>Accessories</td>\n",
              "    </tr>\n",
              "    <tr>\n",
              "      <th>16894</th>\n",
              "      <td>9995</td>\n",
              "      <td>2021-01-09 12:41:00</td>\n",
              "      <td>73</td>\n",
              "      <td>15</td>\n",
              "      <td>3</td>\n",
              "      <td>40.81</td>\n",
              "      <td>Not Returned</td>\n",
              "      <td>In-Store</td>\n",
              "      <td>122.43</td>\n",
              "      <td>56+</td>\n",
              "      <td>West</td>\n",
              "      <td>Footwear</td>\n",
              "    </tr>\n",
              "    <tr>\n",
              "      <th>16895</th>\n",
              "      <td>9997</td>\n",
              "      <td>2021-01-05 06:56:00</td>\n",
              "      <td>83</td>\n",
              "      <td>23</td>\n",
              "      <td>2</td>\n",
              "      <td>84.65</td>\n",
              "      <td>Not Returned</td>\n",
              "      <td>Online</td>\n",
              "      <td>169.30</td>\n",
              "      <td>56+</td>\n",
              "      <td>East</td>\n",
              "      <td>Clothing</td>\n",
              "    </tr>\n",
              "    <tr>\n",
              "      <th>16896</th>\n",
              "      <td>9998</td>\n",
              "      <td>2021-01-02 10:23:00</td>\n",
              "      <td>65</td>\n",
              "      <td>31</td>\n",
              "      <td>7</td>\n",
              "      <td>51.45</td>\n",
              "      <td>Returned</td>\n",
              "      <td>In-Store</td>\n",
              "      <td>360.15</td>\n",
              "      <td>26-35</td>\n",
              "      <td>West</td>\n",
              "      <td>Clothing</td>\n",
              "    </tr>\n",
              "    <tr>\n",
              "      <th>16897</th>\n",
              "      <td>9999</td>\n",
              "      <td>2021-01-07 04:34:00</td>\n",
              "      <td>92</td>\n",
              "      <td>8</td>\n",
              "      <td>7</td>\n",
              "      <td>82.77</td>\n",
              "      <td>Not Returned</td>\n",
              "      <td>Online</td>\n",
              "      <td>579.39</td>\n",
              "      <td>18-25</td>\n",
              "      <td>South</td>\n",
              "      <td>Accessories</td>\n",
              "    </tr>\n",
              "  </tbody>\n",
              "</table>\n",
              "<p>16896 rows × 12 columns</p>\n",
              "</div>\n",
              "    <div class=\"colab-df-buttons\">\n",
              "\n",
              "  <div class=\"colab-df-container\">\n",
              "    <button class=\"colab-df-convert\" onclick=\"convertToInteractive('df-8fa0805d-f903-47d5-935c-374d980257fe')\"\n",
              "            title=\"Convert this dataframe to an interactive table.\"\n",
              "            style=\"display:none;\">\n",
              "\n",
              "  <svg xmlns=\"http://www.w3.org/2000/svg\" height=\"24px\" viewBox=\"0 -960 960 960\">\n",
              "    <path d=\"M120-120v-720h720v720H120Zm60-500h600v-160H180v160Zm220 220h160v-160H400v160Zm0 220h160v-160H400v160ZM180-400h160v-160H180v160Zm440 0h160v-160H620v160ZM180-180h160v-160H180v160Zm440 0h160v-160H620v160Z\"/>\n",
              "  </svg>\n",
              "    </button>\n",
              "\n",
              "  <style>\n",
              "    .colab-df-container {\n",
              "      display:flex;\n",
              "      gap: 12px;\n",
              "    }\n",
              "\n",
              "    .colab-df-convert {\n",
              "      background-color: #E8F0FE;\n",
              "      border: none;\n",
              "      border-radius: 50%;\n",
              "      cursor: pointer;\n",
              "      display: none;\n",
              "      fill: #1967D2;\n",
              "      height: 32px;\n",
              "      padding: 0 0 0 0;\n",
              "      width: 32px;\n",
              "    }\n",
              "\n",
              "    .colab-df-convert:hover {\n",
              "      background-color: #E2EBFA;\n",
              "      box-shadow: 0px 1px 2px rgba(60, 64, 67, 0.3), 0px 1px 3px 1px rgba(60, 64, 67, 0.15);\n",
              "      fill: #174EA6;\n",
              "    }\n",
              "\n",
              "    .colab-df-buttons div {\n",
              "      margin-bottom: 4px;\n",
              "    }\n",
              "\n",
              "    [theme=dark] .colab-df-convert {\n",
              "      background-color: #3B4455;\n",
              "      fill: #D2E3FC;\n",
              "    }\n",
              "\n",
              "    [theme=dark] .colab-df-convert:hover {\n",
              "      background-color: #434B5C;\n",
              "      box-shadow: 0px 1px 3px 1px rgba(0, 0, 0, 0.15);\n",
              "      filter: drop-shadow(0px 1px 2px rgba(0, 0, 0, 0.3));\n",
              "      fill: #FFFFFF;\n",
              "    }\n",
              "  </style>\n",
              "\n",
              "    <script>\n",
              "      const buttonEl =\n",
              "        document.querySelector('#df-8fa0805d-f903-47d5-935c-374d980257fe button.colab-df-convert');\n",
              "      buttonEl.style.display =\n",
              "        google.colab.kernel.accessAllowed ? 'block' : 'none';\n",
              "\n",
              "      async function convertToInteractive(key) {\n",
              "        const element = document.querySelector('#df-8fa0805d-f903-47d5-935c-374d980257fe');\n",
              "        const dataTable =\n",
              "          await google.colab.kernel.invokeFunction('convertToInteractive',\n",
              "                                                    [key], {});\n",
              "        if (!dataTable) return;\n",
              "\n",
              "        const docLinkHtml = 'Like what you see? Visit the ' +\n",
              "          '<a target=\"_blank\" href=https://colab.research.google.com/notebooks/data_table.ipynb>data table notebook</a>'\n",
              "          + ' to learn more about interactive tables.';\n",
              "        element.innerHTML = '';\n",
              "        dataTable['output_type'] = 'display_data';\n",
              "        await google.colab.output.renderOutput(dataTable, element);\n",
              "        const docLink = document.createElement('div');\n",
              "        docLink.innerHTML = docLinkHtml;\n",
              "        element.appendChild(docLink);\n",
              "      }\n",
              "    </script>\n",
              "  </div>\n",
              "\n",
              "\n",
              "<div id=\"df-2ee331eb-8315-445a-acc5-2f2e74923d44\">\n",
              "  <button class=\"colab-df-quickchart\" onclick=\"quickchart('df-2ee331eb-8315-445a-acc5-2f2e74923d44')\"\n",
              "            title=\"Suggest charts\"\n",
              "            style=\"display:none;\">\n",
              "\n",
              "<svg xmlns=\"http://www.w3.org/2000/svg\" height=\"24px\"viewBox=\"0 0 24 24\"\n",
              "     width=\"24px\">\n",
              "    <g>\n",
              "        <path d=\"M19 3H5c-1.1 0-2 .9-2 2v14c0 1.1.9 2 2 2h14c1.1 0 2-.9 2-2V5c0-1.1-.9-2-2-2zM9 17H7v-7h2v7zm4 0h-2V7h2v10zm4 0h-2v-4h2v4z\"/>\n",
              "    </g>\n",
              "</svg>\n",
              "  </button>\n",
              "\n",
              "<style>\n",
              "  .colab-df-quickchart {\n",
              "      --bg-color: #E8F0FE;\n",
              "      --fill-color: #1967D2;\n",
              "      --hover-bg-color: #E2EBFA;\n",
              "      --hover-fill-color: #174EA6;\n",
              "      --disabled-fill-color: #AAA;\n",
              "      --disabled-bg-color: #DDD;\n",
              "  }\n",
              "\n",
              "  [theme=dark] .colab-df-quickchart {\n",
              "      --bg-color: #3B4455;\n",
              "      --fill-color: #D2E3FC;\n",
              "      --hover-bg-color: #434B5C;\n",
              "      --hover-fill-color: #FFFFFF;\n",
              "      --disabled-bg-color: #3B4455;\n",
              "      --disabled-fill-color: #666;\n",
              "  }\n",
              "\n",
              "  .colab-df-quickchart {\n",
              "    background-color: var(--bg-color);\n",
              "    border: none;\n",
              "    border-radius: 50%;\n",
              "    cursor: pointer;\n",
              "    display: none;\n",
              "    fill: var(--fill-color);\n",
              "    height: 32px;\n",
              "    padding: 0;\n",
              "    width: 32px;\n",
              "  }\n",
              "\n",
              "  .colab-df-quickchart:hover {\n",
              "    background-color: var(--hover-bg-color);\n",
              "    box-shadow: 0 1px 2px rgba(60, 64, 67, 0.3), 0 1px 3px 1px rgba(60, 64, 67, 0.15);\n",
              "    fill: var(--button-hover-fill-color);\n",
              "  }\n",
              "\n",
              "  .colab-df-quickchart-complete:disabled,\n",
              "  .colab-df-quickchart-complete:disabled:hover {\n",
              "    background-color: var(--disabled-bg-color);\n",
              "    fill: var(--disabled-fill-color);\n",
              "    box-shadow: none;\n",
              "  }\n",
              "\n",
              "  .colab-df-spinner {\n",
              "    border: 2px solid var(--fill-color);\n",
              "    border-color: transparent;\n",
              "    border-bottom-color: var(--fill-color);\n",
              "    animation:\n",
              "      spin 1s steps(1) infinite;\n",
              "  }\n",
              "\n",
              "  @keyframes spin {\n",
              "    0% {\n",
              "      border-color: transparent;\n",
              "      border-bottom-color: var(--fill-color);\n",
              "      border-left-color: var(--fill-color);\n",
              "    }\n",
              "    20% {\n",
              "      border-color: transparent;\n",
              "      border-left-color: var(--fill-color);\n",
              "      border-top-color: var(--fill-color);\n",
              "    }\n",
              "    30% {\n",
              "      border-color: transparent;\n",
              "      border-left-color: var(--fill-color);\n",
              "      border-top-color: var(--fill-color);\n",
              "      border-right-color: var(--fill-color);\n",
              "    }\n",
              "    40% {\n",
              "      border-color: transparent;\n",
              "      border-right-color: var(--fill-color);\n",
              "      border-top-color: var(--fill-color);\n",
              "    }\n",
              "    60% {\n",
              "      border-color: transparent;\n",
              "      border-right-color: var(--fill-color);\n",
              "    }\n",
              "    80% {\n",
              "      border-color: transparent;\n",
              "      border-right-color: var(--fill-color);\n",
              "      border-bottom-color: var(--fill-color);\n",
              "    }\n",
              "    90% {\n",
              "      border-color: transparent;\n",
              "      border-bottom-color: var(--fill-color);\n",
              "    }\n",
              "  }\n",
              "</style>\n",
              "\n",
              "  <script>\n",
              "    async function quickchart(key) {\n",
              "      const quickchartButtonEl =\n",
              "        document.querySelector('#' + key + ' button');\n",
              "      quickchartButtonEl.disabled = true;  // To prevent multiple clicks.\n",
              "      quickchartButtonEl.classList.add('colab-df-spinner');\n",
              "      try {\n",
              "        const charts = await google.colab.kernel.invokeFunction(\n",
              "            'suggestCharts', [key], {});\n",
              "      } catch (error) {\n",
              "        console.error('Error during call to suggestCharts:', error);\n",
              "      }\n",
              "      quickchartButtonEl.classList.remove('colab-df-spinner');\n",
              "      quickchartButtonEl.classList.add('colab-df-quickchart-complete');\n",
              "    }\n",
              "    (() => {\n",
              "      let quickchartButtonEl =\n",
              "        document.querySelector('#df-2ee331eb-8315-445a-acc5-2f2e74923d44 button');\n",
              "      quickchartButtonEl.style.display =\n",
              "        google.colab.kernel.accessAllowed ? 'block' : 'none';\n",
              "    })();\n",
              "  </script>\n",
              "</div>\n",
              "\n",
              "  <div id=\"id_fea31238-cc7c-4f54-9363-20b733554bb7\">\n",
              "    <style>\n",
              "      .colab-df-generate {\n",
              "        background-color: #E8F0FE;\n",
              "        border: none;\n",
              "        border-radius: 50%;\n",
              "        cursor: pointer;\n",
              "        display: none;\n",
              "        fill: #1967D2;\n",
              "        height: 32px;\n",
              "        padding: 0 0 0 0;\n",
              "        width: 32px;\n",
              "      }\n",
              "\n",
              "      .colab-df-generate:hover {\n",
              "        background-color: #E2EBFA;\n",
              "        box-shadow: 0px 1px 2px rgba(60, 64, 67, 0.3), 0px 1px 3px 1px rgba(60, 64, 67, 0.15);\n",
              "        fill: #174EA6;\n",
              "      }\n",
              "\n",
              "      [theme=dark] .colab-df-generate {\n",
              "        background-color: #3B4455;\n",
              "        fill: #D2E3FC;\n",
              "      }\n",
              "\n",
              "      [theme=dark] .colab-df-generate:hover {\n",
              "        background-color: #434B5C;\n",
              "        box-shadow: 0px 1px 3px 1px rgba(0, 0, 0, 0.15);\n",
              "        filter: drop-shadow(0px 1px 2px rgba(0, 0, 0, 0.3));\n",
              "        fill: #FFFFFF;\n",
              "      }\n",
              "    </style>\n",
              "    <button class=\"colab-df-generate\" onclick=\"generateWithVariable('df')\"\n",
              "            title=\"Generate code using this dataframe.\"\n",
              "            style=\"display:none;\">\n",
              "\n",
              "  <svg xmlns=\"http://www.w3.org/2000/svg\" height=\"24px\"viewBox=\"0 0 24 24\"\n",
              "       width=\"24px\">\n",
              "    <path d=\"M7,19H8.4L18.45,9,17,7.55,7,17.6ZM5,21V16.75L18.45,3.32a2,2,0,0,1,2.83,0l1.4,1.43a1.91,1.91,0,0,1,.58,1.4,1.91,1.91,0,0,1-.58,1.4L9.25,21ZM18.45,9,17,7.55Zm-12,3A5.31,5.31,0,0,0,4.9,8.1,5.31,5.31,0,0,0,1,6.5,5.31,5.31,0,0,0,4.9,4.9,5.31,5.31,0,0,0,6.5,1,5.31,5.31,0,0,0,8.1,4.9,5.31,5.31,0,0,0,12,6.5,5.46,5.46,0,0,0,6.5,12Z\"/>\n",
              "  </svg>\n",
              "    </button>\n",
              "    <script>\n",
              "      (() => {\n",
              "      const buttonEl =\n",
              "        document.querySelector('#id_fea31238-cc7c-4f54-9363-20b733554bb7 button.colab-df-generate');\n",
              "      buttonEl.style.display =\n",
              "        google.colab.kernel.accessAllowed ? 'block' : 'none';\n",
              "\n",
              "      buttonEl.onclick = () => {\n",
              "        google.colab.notebook.generateWithVariable('df');\n",
              "      }\n",
              "      })();\n",
              "    </script>\n",
              "  </div>\n",
              "\n",
              "    </div>\n",
              "  </div>\n"
            ],
            "application/vnd.google.colaboratory.intrinsic+json": {
              "type": "dataframe",
              "variable_name": "df",
              "summary": "{\n  \"name\": \"df\",\n  \"rows\": 16896,\n  \"fields\": [\n    {\n      \"column\": \"Invoice_Number\",\n      \"properties\": {\n        \"dtype\": \"number\",\n        \"std\": 5474,\n        \"min\": 1000,\n        \"max\": 19999,\n        \"num_unique_values\": 16817,\n        \"samples\": [\n          10050,\n          15251,\n          15506\n        ],\n        \"semantic_type\": \"\",\n        \"description\": \"\"\n      }\n    },\n    {\n      \"column\": \"Date_Time\",\n      \"properties\": {\n        \"dtype\": \"date\",\n        \"min\": \"2021-01-01 00:01:00\",\n        \"max\": \"2031-01-26 01:03:00\",\n        \"num_unique_values\": 9997,\n        \"samples\": [\n          \"2021-01-04 00:08:00\",\n          \"2021-01-04 21:46:00\",\n          \"2021-01-11 07:49:00\"\n        ],\n        \"semantic_type\": \"\",\n        \"description\": \"\"\n      }\n    },\n    {\n      \"column\": \"Customer_ID\",\n      \"properties\": {\n        \"dtype\": \"number\",\n        \"std\": 28,\n        \"min\": 1,\n        \"max\": 100,\n        \"num_unique_values\": 100,\n        \"samples\": [\n          75,\n          6,\n          9\n        ],\n        \"semantic_type\": \"\",\n        \"description\": \"\"\n      }\n    },\n    {\n      \"column\": \"Product_ID\",\n      \"properties\": {\n        \"dtype\": \"number\",\n        \"std\": 14,\n        \"min\": 1,\n        \"max\": 50,\n        \"num_unique_values\": 50,\n        \"samples\": [\n          21,\n          13,\n          2\n        ],\n        \"semantic_type\": \"\",\n        \"description\": \"\"\n      }\n    },\n    {\n      \"column\": \"Quantity\",\n      \"properties\": {\n        \"dtype\": \"number\",\n        \"std\": 1,\n        \"min\": 1,\n        \"max\": 10,\n        \"num_unique_values\": 8,\n        \"samples\": [\n          6,\n          1,\n          2\n        ],\n        \"semantic_type\": \"\",\n        \"description\": \"\"\n      }\n    },\n    {\n      \"column\": \"Price_per_Unit\",\n      \"properties\": {\n        \"dtype\": \"number\",\n        \"std\": 23.22943753767194,\n        \"min\": 20.0,\n        \"max\": 99.99,\n        \"num_unique_values\": 7008,\n        \"samples\": [\n          68.76,\n          92.15,\n          72.71\n        ],\n        \"semantic_type\": \"\",\n        \"description\": \"\"\n      }\n    },\n    {\n      \"column\": \"Return_Status\",\n      \"properties\": {\n        \"dtype\": \"category\",\n        \"num_unique_values\": 2,\n        \"samples\": [\n          \"Returned\",\n          \"Not Returned\"\n        ],\n        \"semantic_type\": \"\",\n        \"description\": \"\"\n      }\n    },\n    {\n      \"column\": \"Sales_Channel\",\n      \"properties\": {\n        \"dtype\": \"category\",\n        \"num_unique_values\": 2,\n        \"samples\": [\n          \"Online\",\n          \"In-Store\"\n        ],\n        \"semantic_type\": \"\",\n        \"description\": \"\"\n      }\n    },\n    {\n      \"column\": \"Total_Sales\",\n      \"properties\": {\n        \"dtype\": \"number\",\n        \"std\": 159.4722506586427,\n        \"min\": 20.12,\n        \"max\": 699.93,\n        \"num_unique_values\": 12783,\n        \"samples\": [\n          240.56,\n          180.04\n        ],\n        \"semantic_type\": \"\",\n        \"description\": \"\"\n      }\n    },\n    {\n      \"column\": \"Customer_Age_Group\",\n      \"properties\": {\n        \"dtype\": \"category\",\n        \"num_unique_values\": 5,\n        \"samples\": [\n          \"18-25\",\n          \"36-45\"\n        ],\n        \"semantic_type\": \"\",\n        \"description\": \"\"\n      }\n    },\n    {\n      \"column\": \"Region\",\n      \"properties\": {\n        \"dtype\": \"category\",\n        \"num_unique_values\": 4,\n        \"samples\": [\n          \"South\",\n          \"North\"\n        ],\n        \"semantic_type\": \"\",\n        \"description\": \"\"\n      }\n    },\n    {\n      \"column\": \"Product_Category\",\n      \"properties\": {\n        \"dtype\": \"category\",\n        \"num_unique_values\": 3,\n        \"samples\": [\n          \"Footwear\",\n          \"Clothing\"\n        ],\n        \"semantic_type\": \"\",\n        \"description\": \"\"\n      }\n    }\n  ]\n}"
            }
          },
          "metadata": {},
          "execution_count": 113
        }
      ]
    },
    {
      "cell_type": "code",
      "source": [
        "df.Date_Time"
      ],
      "metadata": {
        "colab": {
          "base_uri": "https://localhost:8080/",
          "height": 458
        },
        "id": "ZSLtsiXpNAnA",
        "outputId": "274927ce-264e-4cd2-b8e7-935c5abe5ff2"
      },
      "execution_count": 135,
      "outputs": [
        {
          "output_type": "execute_result",
          "data": {
            "text/plain": [
              "0        01/01/2021\n",
              "1        08/01/2021\n",
              "2        05/01/2021\n",
              "3        11/01/2021\n",
              "4        02/01/2021\n",
              "            ...    \n",
              "16893    02/01/2021\n",
              "16894    09/01/2021\n",
              "16895    05/01/2021\n",
              "16896    02/01/2021\n",
              "16897    07/01/2021\n",
              "Name: Date_Time, Length: 16896, dtype: object"
            ],
            "text/html": [
              "<div>\n",
              "<style scoped>\n",
              "    .dataframe tbody tr th:only-of-type {\n",
              "        vertical-align: middle;\n",
              "    }\n",
              "\n",
              "    .dataframe tbody tr th {\n",
              "        vertical-align: top;\n",
              "    }\n",
              "\n",
              "    .dataframe thead th {\n",
              "        text-align: right;\n",
              "    }\n",
              "</style>\n",
              "<table border=\"1\" class=\"dataframe\">\n",
              "  <thead>\n",
              "    <tr style=\"text-align: right;\">\n",
              "      <th></th>\n",
              "      <th>Date_Time</th>\n",
              "    </tr>\n",
              "  </thead>\n",
              "  <tbody>\n",
              "    <tr>\n",
              "      <th>0</th>\n",
              "      <td>01/01/2021</td>\n",
              "    </tr>\n",
              "    <tr>\n",
              "      <th>1</th>\n",
              "      <td>08/01/2021</td>\n",
              "    </tr>\n",
              "    <tr>\n",
              "      <th>2</th>\n",
              "      <td>05/01/2021</td>\n",
              "    </tr>\n",
              "    <tr>\n",
              "      <th>3</th>\n",
              "      <td>11/01/2021</td>\n",
              "    </tr>\n",
              "    <tr>\n",
              "      <th>4</th>\n",
              "      <td>02/01/2021</td>\n",
              "    </tr>\n",
              "    <tr>\n",
              "      <th>...</th>\n",
              "      <td>...</td>\n",
              "    </tr>\n",
              "    <tr>\n",
              "      <th>16893</th>\n",
              "      <td>02/01/2021</td>\n",
              "    </tr>\n",
              "    <tr>\n",
              "      <th>16894</th>\n",
              "      <td>09/01/2021</td>\n",
              "    </tr>\n",
              "    <tr>\n",
              "      <th>16895</th>\n",
              "      <td>05/01/2021</td>\n",
              "    </tr>\n",
              "    <tr>\n",
              "      <th>16896</th>\n",
              "      <td>02/01/2021</td>\n",
              "    </tr>\n",
              "    <tr>\n",
              "      <th>16897</th>\n",
              "      <td>07/01/2021</td>\n",
              "    </tr>\n",
              "  </tbody>\n",
              "</table>\n",
              "<p>16896 rows × 1 columns</p>\n",
              "</div><br><label><b>dtype:</b> object</label>"
            ]
          },
          "metadata": {},
          "execution_count": 135
        }
      ]
    },
    {
      "cell_type": "code",
      "source": [
        "df['Date_Time'] = pd.to_datetime(df['Date_Time'], dayfirst=True)"
      ],
      "metadata": {
        "id": "zOhUNwLDN3Ml"
      },
      "execution_count": 137,
      "outputs": []
    },
    {
      "cell_type": "code",
      "source": [
        "df['Date_Time'] = pd.to_datetime(df.Date_Time)"
      ],
      "metadata": {
        "id": "Xr0Ouu90N6MS"
      },
      "execution_count": 138,
      "outputs": []
    },
    {
      "cell_type": "code",
      "source": [
        "type(df.Date_Time[0])"
      ],
      "metadata": {
        "colab": {
          "base_uri": "https://localhost:8080/"
        },
        "id": "bRPMPzPuPWly",
        "outputId": "cef50789-2eb9-45a4-cc8c-4c2786497ba3"
      },
      "execution_count": 139,
      "outputs": [
        {
          "output_type": "execute_result",
          "data": {
            "text/plain": [
              "pandas._libs.tslibs.timestamps.Timestamp"
            ]
          },
          "metadata": {},
          "execution_count": 139
        }
      ]
    },
    {
      "cell_type": "code",
      "source": [
        "print(df['Date_Time'].dtype)"
      ],
      "metadata": {
        "colab": {
          "base_uri": "https://localhost:8080/"
        },
        "id": "Rwlkc9q0Pneu",
        "outputId": "29a41f91-0e54-40b4-9c82-d565dd3729f9"
      },
      "execution_count": 140,
      "outputs": [
        {
          "output_type": "stream",
          "name": "stdout",
          "text": [
            "datetime64[ns]\n"
          ]
        }
      ]
    },
    {
      "cell_type": "code",
      "source": [
        "df.Date_Time"
      ],
      "metadata": {
        "colab": {
          "base_uri": "https://localhost:8080/",
          "height": 458
        },
        "id": "SfUPfjIvPvIC",
        "outputId": "d040356f-e8a7-401a-9b0e-0df946c48205"
      },
      "execution_count": 141,
      "outputs": [
        {
          "output_type": "execute_result",
          "data": {
            "text/plain": [
              "0       2021-01-01\n",
              "1       2021-01-08\n",
              "2       2021-01-05\n",
              "3       2021-01-11\n",
              "4       2021-01-02\n",
              "           ...    \n",
              "16893   2021-01-02\n",
              "16894   2021-01-09\n",
              "16895   2021-01-05\n",
              "16896   2021-01-02\n",
              "16897   2021-01-07\n",
              "Name: Date_Time, Length: 16896, dtype: datetime64[ns]"
            ],
            "text/html": [
              "<div>\n",
              "<style scoped>\n",
              "    .dataframe tbody tr th:only-of-type {\n",
              "        vertical-align: middle;\n",
              "    }\n",
              "\n",
              "    .dataframe tbody tr th {\n",
              "        vertical-align: top;\n",
              "    }\n",
              "\n",
              "    .dataframe thead th {\n",
              "        text-align: right;\n",
              "    }\n",
              "</style>\n",
              "<table border=\"1\" class=\"dataframe\">\n",
              "  <thead>\n",
              "    <tr style=\"text-align: right;\">\n",
              "      <th></th>\n",
              "      <th>Date_Time</th>\n",
              "    </tr>\n",
              "  </thead>\n",
              "  <tbody>\n",
              "    <tr>\n",
              "      <th>0</th>\n",
              "      <td>2021-01-01</td>\n",
              "    </tr>\n",
              "    <tr>\n",
              "      <th>1</th>\n",
              "      <td>2021-01-08</td>\n",
              "    </tr>\n",
              "    <tr>\n",
              "      <th>2</th>\n",
              "      <td>2021-01-05</td>\n",
              "    </tr>\n",
              "    <tr>\n",
              "      <th>3</th>\n",
              "      <td>2021-01-11</td>\n",
              "    </tr>\n",
              "    <tr>\n",
              "      <th>4</th>\n",
              "      <td>2021-01-02</td>\n",
              "    </tr>\n",
              "    <tr>\n",
              "      <th>...</th>\n",
              "      <td>...</td>\n",
              "    </tr>\n",
              "    <tr>\n",
              "      <th>16893</th>\n",
              "      <td>2021-01-02</td>\n",
              "    </tr>\n",
              "    <tr>\n",
              "      <th>16894</th>\n",
              "      <td>2021-01-09</td>\n",
              "    </tr>\n",
              "    <tr>\n",
              "      <th>16895</th>\n",
              "      <td>2021-01-05</td>\n",
              "    </tr>\n",
              "    <tr>\n",
              "      <th>16896</th>\n",
              "      <td>2021-01-02</td>\n",
              "    </tr>\n",
              "    <tr>\n",
              "      <th>16897</th>\n",
              "      <td>2021-01-07</td>\n",
              "    </tr>\n",
              "  </tbody>\n",
              "</table>\n",
              "<p>16896 rows × 1 columns</p>\n",
              "</div><br><label><b>dtype:</b> datetime64[ns]</label>"
            ]
          },
          "metadata": {},
          "execution_count": 141
        }
      ]
    },
    {
      "cell_type": "code",
      "source": [
        "df.info()"
      ],
      "metadata": {
        "colab": {
          "base_uri": "https://localhost:8080/"
        },
        "id": "8qbZ3YxxPzV7",
        "outputId": "15b687b3-bed9-41eb-c853-5ee219302d37"
      },
      "execution_count": 143,
      "outputs": [
        {
          "output_type": "stream",
          "name": "stdout",
          "text": [
            "<class 'pandas.core.frame.DataFrame'>\n",
            "Index: 16896 entries, 0 to 16897\n",
            "Data columns (total 12 columns):\n",
            " #   Column              Non-Null Count  Dtype         \n",
            "---  ------              --------------  -----         \n",
            " 0   Invoice_Number      16896 non-null  int64         \n",
            " 1   Date_Time           16896 non-null  datetime64[ns]\n",
            " 2   Customer_ID         16896 non-null  int64         \n",
            " 3   Product_ID          16896 non-null  int64         \n",
            " 4   Quantity            16896 non-null  int64         \n",
            " 5   Price_per_Unit      16896 non-null  float64       \n",
            " 6   Return_Status       16896 non-null  object        \n",
            " 7   Sales_Channel       16896 non-null  object        \n",
            " 8   Total_Sales         16896 non-null  float64       \n",
            " 9   Customer_Age_Group  16896 non-null  object        \n",
            " 10  Region              16896 non-null  object        \n",
            " 11  Product_Category    16896 non-null  object        \n",
            "dtypes: datetime64[ns](1), float64(2), int64(4), object(5)\n",
            "memory usage: 2.2+ MB\n"
          ]
        }
      ]
    },
    {
      "cell_type": "code",
      "source": [
        "#saving the cleaned dataset\n",
        "df.to_csv('Updated_Retail_Apparel_Data_13.09.24_v1.csv', index=False)"
      ],
      "metadata": {
        "id": "IgRqu_tZQjKS"
      },
      "execution_count": 144,
      "outputs": []
    },
    {
      "cell_type": "code",
      "source": [],
      "metadata": {
        "id": "nEaMa2kHR5TD"
      },
      "execution_count": null,
      "outputs": []
    }
  ]
}